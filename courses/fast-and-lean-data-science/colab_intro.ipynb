{
  "nbformat": 4,
  "nbformat_minor": 0,
  "metadata": {
    "colab": {
      "name": "Welcome To Colaboratory",
      "provenance": [],
      "collapsed_sections": [],
      "toc_visible": true
    },
    "language_info": {
      "codemirror_mode": {
        "name": "ipython",
        "version": 3
      },
      "file_extension": ".py",
      "mimetype": "text/x-python",
      "name": "python",
      "nbconvert_exporter": "python",
      "pygments_lexer": "ipython3",
      "version": "3.5.3"
    },
    "kernelspec": {
      "name": "python3",
      "display_name": "Python 3"
    },
    "accelerator": "GPU"
  },
  "cells": [
    {
      "cell_type": "markdown",
      "metadata": {
        "id": "5fCEDCU_qrC0"
      },
      "source": [
        "<img alt=\"Colaboratory logo\" height=\"45px\" src=\"https://colab.research.google.com/img/colab_favicon.ico\" align=\"left\" hspace=\"10px\" vspace=\"0px\">\n",
        "\n",
        "<h1>Welcome to Colaboratory!</h1>\n",
        "\n",
        "Colaboratory is a free Jupyter notebook environment that requires no setup and runs entirely in the cloud.\n",
        "\n",
        "With Colaboratory you can write and execute code, save and share your analyses, and access powerful computing resources, all for free from your browser."
      ]
    },
    {
      "cell_type": "code",
      "metadata": {
        "id": "NjyZkxRMb363"
      },
      "source": [
        "import numpy as np\n",
        "import matplotlib.pyplot as plt\n",
        "%matplotlib inline\n",
        "import keras\n",
        "from keras.models import Sequential\n",
        "from keras.layers import Dense, Dropout\n",
        "from sklearn.metrics import confusion_matrix\n",
        "import seaborn as sns\n",
        "\n",
        "np.random.seed(0)"
      ],
      "execution_count": 8,
      "outputs": []
    },
    {
      "cell_type": "code",
      "metadata": {
        "colab": {
          "base_uri": "https://localhost:8080/"
        },
        "id": "RAkv6DF6b8a_",
        "outputId": "11bd2ffc-f9db-4805-c52b-086ffdd35c6a"
      },
      "source": [
        "from keras.datasets import mnist\n",
        "(x_train, y_train), (x_test, y_test) = mnist.load_data()"
      ],
      "execution_count": 9,
      "outputs": [
        {
          "output_type": "stream",
          "text": [
            "Downloading data from https://storage.googleapis.com/tensorflow/tf-keras-datasets/mnist.npz\n",
            "11493376/11490434 [==============================] - 0s 0us/step\n",
            "11501568/11490434 [==============================] - 0s 0us/step\n"
          ],
          "name": "stdout"
        }
      ]
    },
    {
      "cell_type": "code",
      "metadata": {
        "colab": {
          "base_uri": "https://localhost:8080/"
        },
        "id": "qTiTyuQacBsV",
        "outputId": "a174cdd0-926a-46bc-9265-310a89033f9c"
      },
      "source": [
        "print(x_train.shape, y_train.shape)\n",
        "print(x_test.shape, y_test.shape)"
      ],
      "execution_count": 10,
      "outputs": [
        {
          "output_type": "stream",
          "text": [
            "(60000, 28, 28) (60000,)\n",
            "(10000, 28, 28) (10000,)\n"
          ],
          "name": "stdout"
        }
      ]
    },
    {
      "cell_type": "code",
      "metadata": {
        "id": "sRgGOOYndPte"
      },
      "source": [
        "x_train = x_train / 255.0 ##divide train and test set by 255 which is the mean of data according to online resouces\n",
        "x_test = x_test / 255.0"
      ],
      "execution_count": 12,
      "outputs": []
    },
    {
      "cell_type": "code",
      "metadata": {
        "colab": {
          "base_uri": "https://localhost:8080/"
        },
        "id": "My3Q9R9zdckk",
        "outputId": "dae7247e-2f69-48df-cdd1-d542fc833ad6"
      },
      "source": [
        "x_train = x_train.reshape(x_train.shape[0], -1)\n",
        "x_test = x_test.reshape(x_test.shape[0], -1)\n",
        "print(x_train.shape)"
      ],
      "execution_count": 13,
      "outputs": [
        {
          "output_type": "stream",
          "text": [
            "(60000, 784)\n"
          ],
          "name": "stdout"
        }
      ]
    },
    {
      "cell_type": "markdown",
      "metadata": {
        "id": "-zwDxK1Ij56b"
      },
      "source": [
        "**experimenting with number of fully connected layers**\n",
        "\n",
        "\n",
        "\n"
      ]
    },
    {
      "cell_type": "markdown",
      "metadata": {
        "id": "0CfMJ3XPiF7V"
      },
      "source": [
        "Model 1\n"
      ]
    },
    {
      "cell_type": "code",
      "metadata": {
        "colab": {
          "base_uri": "https://localhost:8080/"
        },
        "id": "Dor_CQoxeYAp",
        "outputId": "7fa56a39-93dd-4ef9-d3de-b6e707ac7539"
      },
      "source": [
        "model = Sequential() ##model with 2 fully connected layers\n",
        "\n",
        "model.add(Dense(units=110, input_shape=(784,), activation='relu'))\n",
        "model.add(Dense(units=110, activation='relu'))\n",
        "model.add(Dropout(0.25))\n",
        "model.add(Dense(units=10, activation='softmax'))\n",
        "\n",
        "model.compile(loss='sparse_categorical_crossentropy', optimizer='adam', metrics=['accuracy'])\n",
        "model.summary()\n"
      ],
      "execution_count": 35,
      "outputs": [
        {
          "output_type": "stream",
          "text": [
            "Model: \"sequential_6\"\n",
            "_________________________________________________________________\n",
            "Layer (type)                 Output Shape              Param #   \n",
            "=================================================================\n",
            "dense_18 (Dense)             (None, 110)               86350     \n",
            "_________________________________________________________________\n",
            "dense_19 (Dense)             (None, 110)               12210     \n",
            "_________________________________________________________________\n",
            "dropout_6 (Dropout)          (None, 110)               0         \n",
            "_________________________________________________________________\n",
            "dense_20 (Dense)             (None, 10)                1110      \n",
            "=================================================================\n",
            "Total params: 99,670\n",
            "Trainable params: 99,670\n",
            "Non-trainable params: 0\n",
            "_________________________________________________________________\n"
          ],
          "name": "stdout"
        }
      ]
    },
    {
      "cell_type": "code",
      "metadata": {
        "colab": {
          "base_uri": "https://localhost:8080/"
        },
        "id": "R7oNXNVUe4rr",
        "outputId": "e92de1ff-1c34-4ba4-a594-616f2cfaa5eb"
      },
      "source": [
        "\n",
        "batch_size = 450\n",
        "epochs=10\n",
        "model.fit(x=x_train, y=y_train, batch_size=batch_size, epochs=epochs)"
      ],
      "execution_count": 36,
      "outputs": [
        {
          "output_type": "stream",
          "text": [
            "Epoch 1/10\n",
            "134/134 [==============================] - 1s 3ms/step - loss: 1.0535 - accuracy: 0.6929\n",
            "Epoch 2/10\n",
            "134/134 [==============================] - 0s 3ms/step - loss: 0.2532 - accuracy: 0.9270\n",
            "Epoch 3/10\n",
            "134/134 [==============================] - 0s 3ms/step - loss: 0.1801 - accuracy: 0.9477\n",
            "Epoch 4/10\n",
            "134/134 [==============================] - 0s 3ms/step - loss: 0.1421 - accuracy: 0.9576\n",
            "Epoch 5/10\n",
            "134/134 [==============================] - 0s 3ms/step - loss: 0.1176 - accuracy: 0.9655\n",
            "Epoch 6/10\n",
            "134/134 [==============================] - 0s 3ms/step - loss: 0.0971 - accuracy: 0.9713\n",
            "Epoch 7/10\n",
            "134/134 [==============================] - 0s 3ms/step - loss: 0.0898 - accuracy: 0.9735\n",
            "Epoch 8/10\n",
            "134/134 [==============================] - 0s 3ms/step - loss: 0.0718 - accuracy: 0.9787\n",
            "Epoch 9/10\n",
            "134/134 [==============================] - 0s 3ms/step - loss: 0.0662 - accuracy: 0.9800\n",
            "Epoch 10/10\n",
            "134/134 [==============================] - 0s 3ms/step - loss: 0.0588 - accuracy: 0.9828\n"
          ],
          "name": "stdout"
        },
        {
          "output_type": "execute_result",
          "data": {
            "text/plain": [
              "<keras.callbacks.History at 0x7f5aa0b313d0>"
            ]
          },
          "metadata": {
            "tags": []
          },
          "execution_count": 36
        }
      ]
    },
    {
      "cell_type": "code",
      "metadata": {
        "colab": {
          "base_uri": "https://localhost:8080/"
        },
        "id": "wxcp2MAIhk9j",
        "outputId": "1e5f331c-d684-40ee-f2a3-72950b5a42c2"
      },
      "source": [
        "test_loss, test_acc = model.evaluate(x_test, y_test)\n",
        "print(\"Test Loss: {}, Test Accuracy: {}\".format(test_loss, test_acc))"
      ],
      "execution_count": 37,
      "outputs": [
        {
          "output_type": "stream",
          "text": [
            "313/313 [==============================] - 1s 2ms/step - loss: 0.0758 - accuracy: 0.9756\n",
            "Test Loss: 0.0757802426815033, Test Accuracy: 0.975600004196167\n"
          ],
          "name": "stdout"
        }
      ]
    },
    {
      "cell_type": "markdown",
      "metadata": {
        "id": "ALdZQaGtiLRy"
      },
      "source": [
        "Model 2"
      ]
    },
    {
      "cell_type": "code",
      "metadata": {
        "colab": {
          "base_uri": "https://localhost:8080/"
        },
        "id": "9KDh2K4aiNzW",
        "outputId": "993e8f74-50ad-4139-b632-591761ceb105"
      },
      "source": [
        "model = Sequential() ##model with 1 fully connected layer\n",
        "\n",
        "model.add(Dense(units=110, input_shape=(784,), activation='relu'))\n",
        "model.add(Dropout(0.25))\n",
        "model.add(Dense(units=10, activation='softmax'))\n",
        "\n",
        "model.compile(loss='sparse_categorical_crossentropy', optimizer='adam', metrics=['accuracy'])\n",
        "model.summary()"
      ],
      "execution_count": 39,
      "outputs": [
        {
          "output_type": "stream",
          "text": [
            "Model: \"sequential_8\"\n",
            "_________________________________________________________________\n",
            "Layer (type)                 Output Shape              Param #   \n",
            "=================================================================\n",
            "dense_23 (Dense)             (None, 110)               86350     \n",
            "_________________________________________________________________\n",
            "dropout_8 (Dropout)          (None, 110)               0         \n",
            "_________________________________________________________________\n",
            "dense_24 (Dense)             (None, 10)                1110      \n",
            "=================================================================\n",
            "Total params: 87,460\n",
            "Trainable params: 87,460\n",
            "Non-trainable params: 0\n",
            "_________________________________________________________________\n"
          ],
          "name": "stdout"
        }
      ]
    },
    {
      "cell_type": "code",
      "metadata": {
        "colab": {
          "base_uri": "https://localhost:8080/"
        },
        "id": "NCAmX2WDiU-s",
        "outputId": "be7688ed-6b3c-41c4-d171-0dd6661bf0c7"
      },
      "source": [
        "batch_size = 450\n",
        "epochs=10\n",
        "model.fit(x=x_train, y=y_train, batch_size=batch_size, epochs=epochs)"
      ],
      "execution_count": 40,
      "outputs": [
        {
          "output_type": "stream",
          "text": [
            "Epoch 1/10\n",
            "134/134 [==============================] - 1s 3ms/step - loss: 1.0980 - accuracy: 0.6709\n",
            "Epoch 2/10\n",
            "134/134 [==============================] - 0s 3ms/step - loss: 0.3208 - accuracy: 0.9096\n",
            "Epoch 3/10\n",
            "134/134 [==============================] - 0s 3ms/step - loss: 0.2422 - accuracy: 0.9320\n",
            "Epoch 4/10\n",
            "134/134 [==============================] - 0s 3ms/step - loss: 0.2026 - accuracy: 0.9414\n",
            "Epoch 5/10\n",
            "134/134 [==============================] - 0s 3ms/step - loss: 0.1791 - accuracy: 0.9474\n",
            "Epoch 6/10\n",
            "134/134 [==============================] - 0s 3ms/step - loss: 0.1579 - accuracy: 0.9553\n",
            "Epoch 7/10\n",
            "134/134 [==============================] - 0s 3ms/step - loss: 0.1437 - accuracy: 0.9579\n",
            "Epoch 8/10\n",
            "134/134 [==============================] - 0s 3ms/step - loss: 0.1296 - accuracy: 0.9614\n",
            "Epoch 9/10\n",
            "134/134 [==============================] - 0s 3ms/step - loss: 0.1181 - accuracy: 0.9656\n",
            "Epoch 10/10\n",
            "134/134 [==============================] - 0s 3ms/step - loss: 0.1098 - accuracy: 0.9679\n"
          ],
          "name": "stdout"
        },
        {
          "output_type": "execute_result",
          "data": {
            "text/plain": [
              "<keras.callbacks.History at 0x7f5aa09fd190>"
            ]
          },
          "metadata": {
            "tags": []
          },
          "execution_count": 40
        }
      ]
    },
    {
      "cell_type": "code",
      "metadata": {
        "colab": {
          "base_uri": "https://localhost:8080/"
        },
        "id": "n6nCJb5lieSe",
        "outputId": "775767e8-540c-446c-e8ef-6f711b422207"
      },
      "source": [
        "test_loss, test_acc = model.evaluate(x_test, y_test) ##test loss when up from .07 to .09\n",
        "print(\"Test Loss: {}, Test Accuracy: {}\".format(test_loss, test_acc))"
      ],
      "execution_count": 41,
      "outputs": [
        {
          "output_type": "stream",
          "text": [
            "313/313 [==============================] - 1s 2ms/step - loss: 0.0914 - accuracy: 0.9711\n",
            "Test Loss: 0.09135602414608002, Test Accuracy: 0.9710999727249146\n"
          ],
          "name": "stdout"
        }
      ]
    },
    {
      "cell_type": "markdown",
      "metadata": {
        "id": "bnjMx5X0imYG"
      },
      "source": [
        "Model 3"
      ]
    },
    {
      "cell_type": "code",
      "metadata": {
        "colab": {
          "base_uri": "https://localhost:8080/"
        },
        "id": "i9ZMHod4iqPH",
        "outputId": "3ff83133-15c6-4931-c5f1-3c001d58e32e"
      },
      "source": [
        "model = Sequential() ##model with 3 fully connected layers\n",
        "\n",
        "model.add(Dense(units=110, input_shape=(784,), activation='relu'))\n",
        "model.add(Dense(units=110, activation='relu'))\n",
        "model.add(Dense(units=110, activation='relu'))\n",
        "model.add(Dropout(0.25))\n",
        "model.add(Dense(units=10, activation='softmax'))\n",
        "\n",
        "model.compile(loss='sparse_categorical_crossentropy', optimizer='adam', metrics=['accuracy'])\n",
        "model.summary()"
      ],
      "execution_count": 42,
      "outputs": [
        {
          "output_type": "stream",
          "text": [
            "Model: \"sequential_9\"\n",
            "_________________________________________________________________\n",
            "Layer (type)                 Output Shape              Param #   \n",
            "=================================================================\n",
            "dense_25 (Dense)             (None, 110)               86350     \n",
            "_________________________________________________________________\n",
            "dense_26 (Dense)             (None, 110)               12210     \n",
            "_________________________________________________________________\n",
            "dense_27 (Dense)             (None, 110)               12210     \n",
            "_________________________________________________________________\n",
            "dropout_9 (Dropout)          (None, 110)               0         \n",
            "_________________________________________________________________\n",
            "dense_28 (Dense)             (None, 10)                1110      \n",
            "=================================================================\n",
            "Total params: 111,880\n",
            "Trainable params: 111,880\n",
            "Non-trainable params: 0\n",
            "_________________________________________________________________\n"
          ],
          "name": "stdout"
        }
      ]
    },
    {
      "cell_type": "code",
      "metadata": {
        "colab": {
          "base_uri": "https://localhost:8080/"
        },
        "id": "xNxx1or5jK86",
        "outputId": "0f6b5ff2-ef6c-42bd-a4d0-408693908d36"
      },
      "source": [
        "batch_size = 450\n",
        "epochs=10\n",
        "model.fit(x=x_train, y=y_train, batch_size=batch_size, epochs=epochs)"
      ],
      "execution_count": 43,
      "outputs": [
        {
          "output_type": "stream",
          "text": [
            "Epoch 1/10\n",
            "134/134 [==============================] - 1s 3ms/step - loss: 1.0319 - accuracy: 0.6855\n",
            "Epoch 2/10\n",
            "134/134 [==============================] - 0s 3ms/step - loss: 0.2128 - accuracy: 0.9383\n",
            "Epoch 3/10\n",
            "134/134 [==============================] - 0s 3ms/step - loss: 0.1407 - accuracy: 0.9585\n",
            "Epoch 4/10\n",
            "134/134 [==============================] - 0s 3ms/step - loss: 0.1084 - accuracy: 0.9681\n",
            "Epoch 5/10\n",
            "134/134 [==============================] - 0s 3ms/step - loss: 0.0878 - accuracy: 0.9748\n",
            "Epoch 6/10\n",
            "134/134 [==============================] - 0s 3ms/step - loss: 0.0760 - accuracy: 0.9772\n",
            "Epoch 7/10\n",
            "134/134 [==============================] - 0s 3ms/step - loss: 0.0589 - accuracy: 0.9819\n",
            "Epoch 8/10\n",
            "134/134 [==============================] - 0s 3ms/step - loss: 0.0521 - accuracy: 0.9837\n",
            "Epoch 9/10\n",
            "134/134 [==============================] - 0s 3ms/step - loss: 0.0424 - accuracy: 0.9868\n",
            "Epoch 10/10\n",
            "134/134 [==============================] - 0s 3ms/step - loss: 0.0384 - accuracy: 0.9872\n"
          ],
          "name": "stdout"
        },
        {
          "output_type": "execute_result",
          "data": {
            "text/plain": [
              "<keras.callbacks.History at 0x7f5aa0163610>"
            ]
          },
          "metadata": {
            "tags": []
          },
          "execution_count": 43
        }
      ]
    },
    {
      "cell_type": "code",
      "metadata": {
        "colab": {
          "base_uri": "https://localhost:8080/"
        },
        "id": "lh_fh941jReK",
        "outputId": "602849b2-0078-42a3-ab10-7564a915351a"
      },
      "source": [
        "test_loss, test_acc = model.evaluate(x_test, y_test) ##test loss when down from .09 to .08\n",
        "print(\"Test Loss: {}, Test Accuracy: {}\".format(test_loss, test_acc))"
      ],
      "execution_count": 44,
      "outputs": [
        {
          "output_type": "stream",
          "text": [
            "313/313 [==============================] - 1s 2ms/step - loss: 0.0826 - accuracy: 0.9757\n",
            "Test Loss: 0.08257164061069489, Test Accuracy: 0.9757000207901001\n"
          ],
          "name": "stdout"
        }
      ]
    },
    {
      "cell_type": "markdown",
      "metadata": {
        "id": "D4Q85e7JjV2k"
      },
      "source": [
        "Model 4"
      ]
    },
    {
      "cell_type": "code",
      "metadata": {
        "colab": {
          "base_uri": "https://localhost:8080/"
        },
        "id": "Nho8s0cBjWwP",
        "outputId": "447ab162-2d04-46fa-b254-51398ec5aa3a"
      },
      "source": [
        "model = Sequential() ##model with 4 fully connected layers\n",
        "\n",
        "model.add(Dense(units=110, input_shape=(784,), activation='relu'))\n",
        "model.add(Dense(units=110, activation='relu'))\n",
        "model.add(Dense(units=110, activation='relu'))\n",
        "model.add(Dense(units=110, activation='relu'))\n",
        "model.add(Dropout(0.25))\n",
        "model.add(Dense(units=10, activation='softmax'))\n",
        "\n",
        "model.compile(loss='sparse_categorical_crossentropy', optimizer='adam', metrics=['accuracy'])\n",
        "model.summary()"
      ],
      "execution_count": 45,
      "outputs": [
        {
          "output_type": "stream",
          "text": [
            "Model: \"sequential_10\"\n",
            "_________________________________________________________________\n",
            "Layer (type)                 Output Shape              Param #   \n",
            "=================================================================\n",
            "dense_29 (Dense)             (None, 110)               86350     \n",
            "_________________________________________________________________\n",
            "dense_30 (Dense)             (None, 110)               12210     \n",
            "_________________________________________________________________\n",
            "dense_31 (Dense)             (None, 110)               12210     \n",
            "_________________________________________________________________\n",
            "dense_32 (Dense)             (None, 110)               12210     \n",
            "_________________________________________________________________\n",
            "dropout_10 (Dropout)         (None, 110)               0         \n",
            "_________________________________________________________________\n",
            "dense_33 (Dense)             (None, 10)                1110      \n",
            "=================================================================\n",
            "Total params: 124,090\n",
            "Trainable params: 124,090\n",
            "Non-trainable params: 0\n",
            "_________________________________________________________________\n"
          ],
          "name": "stdout"
        }
      ]
    },
    {
      "cell_type": "code",
      "metadata": {
        "colab": {
          "base_uri": "https://localhost:8080/"
        },
        "id": "06YI2Ojrjeek",
        "outputId": "11c903ae-de5b-48d6-aef7-dbcc37772fa7"
      },
      "source": [
        "batch_size = 450\n",
        "epochs=10\n",
        "model.fit(x=x_train, y=y_train, batch_size=batch_size, epochs=epochs)"
      ],
      "execution_count": 46,
      "outputs": [
        {
          "output_type": "stream",
          "text": [
            "Epoch 1/10\n",
            "134/134 [==============================] - 1s 3ms/step - loss: 1.0427 - accuracy: 0.6760\n",
            "Epoch 2/10\n",
            "134/134 [==============================] - 0s 3ms/step - loss: 0.2129 - accuracy: 0.9389\n",
            "Epoch 3/10\n",
            "134/134 [==============================] - 0s 3ms/step - loss: 0.1401 - accuracy: 0.9592\n",
            "Epoch 4/10\n",
            "134/134 [==============================] - 0s 3ms/step - loss: 0.1062 - accuracy: 0.9699\n",
            "Epoch 5/10\n",
            "134/134 [==============================] - 0s 3ms/step - loss: 0.0854 - accuracy: 0.9750\n",
            "Epoch 6/10\n",
            "134/134 [==============================] - 0s 3ms/step - loss: 0.0709 - accuracy: 0.9792\n",
            "Epoch 7/10\n",
            "134/134 [==============================] - 0s 3ms/step - loss: 0.0593 - accuracy: 0.9823\n",
            "Epoch 8/10\n",
            "134/134 [==============================] - 0s 3ms/step - loss: 0.0531 - accuracy: 0.9846\n",
            "Epoch 9/10\n",
            "134/134 [==============================] - 0s 3ms/step - loss: 0.0423 - accuracy: 0.9874\n",
            "Epoch 10/10\n",
            "134/134 [==============================] - 0s 3ms/step - loss: 0.0351 - accuracy: 0.9895\n"
          ],
          "name": "stdout"
        },
        {
          "output_type": "execute_result",
          "data": {
            "text/plain": [
              "<keras.callbacks.History at 0x7f5a9c74f550>"
            ]
          },
          "metadata": {
            "tags": []
          },
          "execution_count": 46
        }
      ]
    },
    {
      "cell_type": "code",
      "metadata": {
        "colab": {
          "base_uri": "https://localhost:8080/"
        },
        "id": "_spnhoj4jgiW",
        "outputId": "e7ac7a51-d768-4bc6-d9ac-71dd0eb6be48"
      },
      "source": [
        "test_loss, test_acc = model.evaluate(x_test, y_test) ##test loss stayed at .08. Best model thus far was model 1.\n",
        "print(\"Test Loss: {}, Test Accuracy: {}\".format(test_loss, test_acc))"
      ],
      "execution_count": 47,
      "outputs": [
        {
          "output_type": "stream",
          "text": [
            "313/313 [==============================] - 1s 2ms/step - loss: 0.0823 - accuracy: 0.9753\n",
            "Test Loss: 0.0822971761226654, Test Accuracy: 0.9753000140190125\n"
          ],
          "name": "stdout"
        }
      ]
    },
    {
      "cell_type": "markdown",
      "metadata": {
        "id": "tIy5jeMYkCU3"
      },
      "source": [
        "** experimenting with the number of perceptrons in fully connected layers**"
      ]
    },
    {
      "cell_type": "markdown",
      "metadata": {
        "id": "PC8atM9mkTcU"
      },
      "source": [
        "Model 1"
      ]
    },
    {
      "cell_type": "code",
      "metadata": {
        "colab": {
          "base_uri": "https://localhost:8080/"
        },
        "id": "_vUDUZMFkVGR",
        "outputId": "dc472113-adea-4178-ed18-3ba533ead371"
      },
      "source": [
        "model = Sequential() ##sticking with 2 fully connected layers and just changing units\n",
        "\n",
        "model.add(Dense(units=100, input_shape=(784,), activation='relu'))\n",
        "model.add(Dense(units=100, activation='relu'))\n",
        "model.add(Dropout(0.25))\n",
        "model.add(Dense(units=15, activation='softmax'))\n",
        "\n",
        "model.compile(loss='sparse_categorical_crossentropy', optimizer='adam', metrics=['accuracy'])\n",
        "model.summary()"
      ],
      "execution_count": 51,
      "outputs": [
        {
          "output_type": "stream",
          "text": [
            "Model: \"sequential_12\"\n",
            "_________________________________________________________________\n",
            "Layer (type)                 Output Shape              Param #   \n",
            "=================================================================\n",
            "dense_37 (Dense)             (None, 100)               78500     \n",
            "_________________________________________________________________\n",
            "dense_38 (Dense)             (None, 100)               10100     \n",
            "_________________________________________________________________\n",
            "dropout_12 (Dropout)         (None, 100)               0         \n",
            "_________________________________________________________________\n",
            "dense_39 (Dense)             (None, 15)                1515      \n",
            "=================================================================\n",
            "Total params: 90,115\n",
            "Trainable params: 90,115\n",
            "Non-trainable params: 0\n",
            "_________________________________________________________________\n"
          ],
          "name": "stdout"
        }
      ]
    },
    {
      "cell_type": "code",
      "metadata": {
        "colab": {
          "base_uri": "https://localhost:8080/"
        },
        "id": "GwyQTXhikruO",
        "outputId": "5e3f01d6-cad0-42c6-ed28-7580f202418c"
      },
      "source": [
        "batch_size = 450\n",
        "epochs=10\n",
        "model.fit(x=x_train, y=y_train, batch_size=batch_size, epochs=epochs)"
      ],
      "execution_count": 52,
      "outputs": [
        {
          "output_type": "stream",
          "text": [
            "Epoch 1/10\n",
            "134/134 [==============================] - 1s 3ms/step - loss: 1.2272 - accuracy: 0.6423\n",
            "Epoch 2/10\n",
            "134/134 [==============================] - 0s 3ms/step - loss: 0.2683 - accuracy: 0.9235\n",
            "Epoch 3/10\n",
            "134/134 [==============================] - 0s 3ms/step - loss: 0.1938 - accuracy: 0.9439\n",
            "Epoch 4/10\n",
            "134/134 [==============================] - 0s 3ms/step - loss: 0.1542 - accuracy: 0.9542\n",
            "Epoch 5/10\n",
            "134/134 [==============================] - 0s 3ms/step - loss: 0.1255 - accuracy: 0.9630\n",
            "Epoch 6/10\n",
            "134/134 [==============================] - 0s 3ms/step - loss: 0.1082 - accuracy: 0.9685\n",
            "Epoch 7/10\n",
            "134/134 [==============================] - 0s 3ms/step - loss: 0.0952 - accuracy: 0.9723\n",
            "Epoch 8/10\n",
            "134/134 [==============================] - 0s 3ms/step - loss: 0.0823 - accuracy: 0.9752\n",
            "Epoch 9/10\n",
            "134/134 [==============================] - 0s 3ms/step - loss: 0.0738 - accuracy: 0.9780\n",
            "Epoch 10/10\n",
            "134/134 [==============================] - 0s 3ms/step - loss: 0.0632 - accuracy: 0.9817\n"
          ],
          "name": "stdout"
        },
        {
          "output_type": "execute_result",
          "data": {
            "text/plain": [
              "<keras.callbacks.History at 0x7f5a9c476090>"
            ]
          },
          "metadata": {
            "tags": []
          },
          "execution_count": 52
        }
      ]
    },
    {
      "cell_type": "code",
      "metadata": {
        "colab": {
          "base_uri": "https://localhost:8080/"
        },
        "id": "kCEXT9k7kwSC",
        "outputId": "2d488644-f3d1-42e0-cfe4-0c80022d7685"
      },
      "source": [
        "test_loss, test_acc = model.evaluate(x_test, y_test) ##test loss stayed at .07. However previous model 1 was still a little lower at .075.\n",
        "print(\"Test Loss: {}, Test Accuracy: {}\".format(test_loss, test_acc))"
      ],
      "execution_count": 54,
      "outputs": [
        {
          "output_type": "stream",
          "text": [
            "313/313 [==============================] - 1s 2ms/step - loss: 0.0786 - accuracy: 0.9758\n",
            "Test Loss: 0.07856731861829758, Test Accuracy: 0.9757999777793884\n"
          ],
          "name": "stdout"
        }
      ]
    },
    {
      "cell_type": "markdown",
      "metadata": {
        "id": "Waa6sRpSln9J"
      },
      "source": [
        "Model 2"
      ]
    },
    {
      "cell_type": "code",
      "metadata": {
        "colab": {
          "base_uri": "https://localhost:8080/"
        },
        "id": "fyn4gdWaleo6",
        "outputId": "cb704a19-ca02-4dad-8a35-d1f7f38267c8"
      },
      "source": [
        "model = Sequential() ##sticking with 2 fully connected layers and just changing units\n",
        "\n",
        "model.add(Dense(units=50, input_shape=(784,), activation='relu'))\n",
        "model.add(Dense(units=50, activation='relu'))\n",
        "model.add(Dropout(0.25))\n",
        "model.add(Dense(units=15, activation='softmax'))\n",
        "\n",
        "model.compile(loss='sparse_categorical_crossentropy', optimizer='adam', metrics=['accuracy'])\n",
        "model.summary()"
      ],
      "execution_count": 55,
      "outputs": [
        {
          "output_type": "stream",
          "text": [
            "Model: \"sequential_13\"\n",
            "_________________________________________________________________\n",
            "Layer (type)                 Output Shape              Param #   \n",
            "=================================================================\n",
            "dense_40 (Dense)             (None, 50)                39250     \n",
            "_________________________________________________________________\n",
            "dense_41 (Dense)             (None, 50)                2550      \n",
            "_________________________________________________________________\n",
            "dropout_13 (Dropout)         (None, 50)                0         \n",
            "_________________________________________________________________\n",
            "dense_42 (Dense)             (None, 15)                765       \n",
            "=================================================================\n",
            "Total params: 42,565\n",
            "Trainable params: 42,565\n",
            "Non-trainable params: 0\n",
            "_________________________________________________________________\n"
          ],
          "name": "stdout"
        }
      ]
    },
    {
      "cell_type": "code",
      "metadata": {
        "colab": {
          "base_uri": "https://localhost:8080/"
        },
        "id": "J4vqZRCvlrlt",
        "outputId": "814c9f07-fe77-43ba-b0b5-f812dd3a8a53"
      },
      "source": [
        "batch_size = 450\n",
        "epochs=10\n",
        "model.fit(x=x_train, y=y_train, batch_size=batch_size, epochs=epochs)"
      ],
      "execution_count": 56,
      "outputs": [
        {
          "output_type": "stream",
          "text": [
            "Epoch 1/10\n",
            "134/134 [==============================] - 1s 3ms/step - loss: 1.5535 - accuracy: 0.5280\n",
            "Epoch 2/10\n",
            "134/134 [==============================] - 0s 3ms/step - loss: 0.3911 - accuracy: 0.8863\n",
            "Epoch 3/10\n",
            "134/134 [==============================] - 0s 3ms/step - loss: 0.2989 - accuracy: 0.9136\n",
            "Epoch 4/10\n",
            "134/134 [==============================] - 0s 3ms/step - loss: 0.2478 - accuracy: 0.9293\n",
            "Epoch 5/10\n",
            "134/134 [==============================] - 0s 3ms/step - loss: 0.2132 - accuracy: 0.9386\n",
            "Epoch 6/10\n",
            "134/134 [==============================] - 0s 3ms/step - loss: 0.1822 - accuracy: 0.9469\n",
            "Epoch 7/10\n",
            "134/134 [==============================] - 0s 3ms/step - loss: 0.1683 - accuracy: 0.9498\n",
            "Epoch 8/10\n",
            "134/134 [==============================] - 0s 3ms/step - loss: 0.1603 - accuracy: 0.9540\n",
            "Epoch 9/10\n",
            "134/134 [==============================] - 0s 3ms/step - loss: 0.1443 - accuracy: 0.9581\n",
            "Epoch 10/10\n",
            "134/134 [==============================] - 0s 3ms/step - loss: 0.1318 - accuracy: 0.9617\n"
          ],
          "name": "stdout"
        },
        {
          "output_type": "execute_result",
          "data": {
            "text/plain": [
              "<keras.callbacks.History at 0x7f5a9c31eb50>"
            ]
          },
          "metadata": {
            "tags": []
          },
          "execution_count": 56
        }
      ]
    },
    {
      "cell_type": "code",
      "metadata": {
        "colab": {
          "base_uri": "https://localhost:8080/"
        },
        "id": "Y4k4bMaulvur",
        "outputId": "a7c70707-b829-475c-f06f-0f75c24868b6"
      },
      "source": [
        "test_loss, test_acc = model.evaluate(x_test, y_test) ##test loss increased to .11.\n",
        "print(\"Test Loss: {}, Test Accuracy: {}\".format(test_loss, test_acc))"
      ],
      "execution_count": 57,
      "outputs": [
        {
          "output_type": "stream",
          "text": [
            "313/313 [==============================] - 1s 2ms/step - loss: 0.1109 - accuracy: 0.9656\n",
            "Test Loss: 0.11089185625314713, Test Accuracy: 0.9656000137329102\n"
          ],
          "name": "stdout"
        }
      ]
    },
    {
      "cell_type": "markdown",
      "metadata": {
        "id": "nsfxYPX-l5oG"
      },
      "source": [
        "Model 3"
      ]
    },
    {
      "cell_type": "code",
      "metadata": {
        "colab": {
          "base_uri": "https://localhost:8080/"
        },
        "id": "BtvftoVLl6ZD",
        "outputId": "336e7077-c089-49bc-bcb6-9169af19fadb"
      },
      "source": [
        "model = Sequential() ##sticking with 2 fully connected layers and just changing units\n",
        "\n",
        "model.add(Dense(units=150, input_shape=(784,), activation='relu'))\n",
        "model.add(Dense(units=150, activation='relu'))\n",
        "model.add(Dropout(0.25))\n",
        "model.add(Dense(units=15, activation='softmax'))\n",
        "\n",
        "model.compile(loss='sparse_categorical_crossentropy', optimizer='adam', metrics=['accuracy'])\n",
        "model.summary()"
      ],
      "execution_count": 58,
      "outputs": [
        {
          "output_type": "stream",
          "text": [
            "Model: \"sequential_14\"\n",
            "_________________________________________________________________\n",
            "Layer (type)                 Output Shape              Param #   \n",
            "=================================================================\n",
            "dense_43 (Dense)             (None, 150)               117750    \n",
            "_________________________________________________________________\n",
            "dense_44 (Dense)             (None, 150)               22650     \n",
            "_________________________________________________________________\n",
            "dropout_14 (Dropout)         (None, 150)               0         \n",
            "_________________________________________________________________\n",
            "dense_45 (Dense)             (None, 15)                2265      \n",
            "=================================================================\n",
            "Total params: 142,665\n",
            "Trainable params: 142,665\n",
            "Non-trainable params: 0\n",
            "_________________________________________________________________\n"
          ],
          "name": "stdout"
        }
      ]
    },
    {
      "cell_type": "code",
      "metadata": {
        "colab": {
          "base_uri": "https://localhost:8080/"
        },
        "id": "wE6UELvTl_gN",
        "outputId": "930bcbcc-5ebc-4ab7-b38f-3806e186fbe3"
      },
      "source": [
        "batch_size = 450\n",
        "epochs=10\n",
        "model.fit(x=x_train, y=y_train, batch_size=batch_size, epochs=epochs)"
      ],
      "execution_count": 59,
      "outputs": [
        {
          "output_type": "stream",
          "text": [
            "Epoch 1/10\n",
            "134/134 [==============================] - 1s 3ms/step - loss: 1.0592 - accuracy: 0.6876\n",
            "Epoch 2/10\n",
            "134/134 [==============================] - 0s 3ms/step - loss: 0.2242 - accuracy: 0.9354\n",
            "Epoch 3/10\n",
            "134/134 [==============================] - 0s 3ms/step - loss: 0.1551 - accuracy: 0.9542\n",
            "Epoch 4/10\n",
            "134/134 [==============================] - 0s 3ms/step - loss: 0.1179 - accuracy: 0.9658\n",
            "Epoch 5/10\n",
            "134/134 [==============================] - 0s 3ms/step - loss: 0.0955 - accuracy: 0.9716\n",
            "Epoch 6/10\n",
            "134/134 [==============================] - 0s 3ms/step - loss: 0.0772 - accuracy: 0.9766\n",
            "Epoch 7/10\n",
            "134/134 [==============================] - 0s 3ms/step - loss: 0.0696 - accuracy: 0.9795\n",
            "Epoch 8/10\n",
            "134/134 [==============================] - 0s 3ms/step - loss: 0.0548 - accuracy: 0.9836\n",
            "Epoch 9/10\n",
            "134/134 [==============================] - 0s 3ms/step - loss: 0.0501 - accuracy: 0.9848\n",
            "Epoch 10/10\n",
            "134/134 [==============================] - 0s 3ms/step - loss: 0.0428 - accuracy: 0.9874\n"
          ],
          "name": "stdout"
        },
        {
          "output_type": "execute_result",
          "data": {
            "text/plain": [
              "<keras.callbacks.History at 0x7f5a9c13d410>"
            ]
          },
          "metadata": {
            "tags": []
          },
          "execution_count": 59
        }
      ]
    },
    {
      "cell_type": "code",
      "metadata": {
        "colab": {
          "base_uri": "https://localhost:8080/"
        },
        "id": "O-p10zjXmBqx",
        "outputId": "65fec53a-03eb-4214-ac86-affaa97c87ec"
      },
      "source": [
        "test_loss, test_acc = model.evaluate(x_test, y_test) ##test loss stayed at .07. But so far is the lowest at .073.\n",
        "print(\"Test Loss: {}, Test Accuracy: {}\".format(test_loss, test_acc))"
      ],
      "execution_count": 60,
      "outputs": [
        {
          "output_type": "stream",
          "text": [
            "313/313 [==============================] - 1s 2ms/step - loss: 0.0738 - accuracy: 0.9778\n",
            "Test Loss: 0.07383216917514801, Test Accuracy: 0.9778000116348267\n"
          ],
          "name": "stdout"
        }
      ]
    },
    {
      "cell_type": "markdown",
      "metadata": {
        "id": "dv3W__s6mJE8"
      },
      "source": [
        "Model 4"
      ]
    },
    {
      "cell_type": "code",
      "metadata": {
        "colab": {
          "base_uri": "https://localhost:8080/"
        },
        "id": "TOkEg7-UmKEc",
        "outputId": "822242b1-35fd-49a9-eec0-493fd4be9026"
      },
      "source": [
        "model = Sequential() ##sticking with 2 fully connected layers and just changing units\n",
        "\n",
        "model.add(Dense(units=200, input_shape=(784,), activation='relu'))\n",
        "model.add(Dense(units=200, activation='relu'))\n",
        "model.add(Dropout(0.25))\n",
        "model.add(Dense(units=20, activation='softmax'))\n",
        "\n",
        "model.compile(loss='sparse_categorical_crossentropy', optimizer='adam', metrics=['accuracy'])\n",
        "model.summary()"
      ],
      "execution_count": 61,
      "outputs": [
        {
          "output_type": "stream",
          "text": [
            "Model: \"sequential_15\"\n",
            "_________________________________________________________________\n",
            "Layer (type)                 Output Shape              Param #   \n",
            "=================================================================\n",
            "dense_46 (Dense)             (None, 200)               157000    \n",
            "_________________________________________________________________\n",
            "dense_47 (Dense)             (None, 200)               40200     \n",
            "_________________________________________________________________\n",
            "dropout_15 (Dropout)         (None, 200)               0         \n",
            "_________________________________________________________________\n",
            "dense_48 (Dense)             (None, 20)                4020      \n",
            "=================================================================\n",
            "Total params: 201,220\n",
            "Trainable params: 201,220\n",
            "Non-trainable params: 0\n",
            "_________________________________________________________________\n"
          ],
          "name": "stdout"
        }
      ]
    },
    {
      "cell_type": "code",
      "metadata": {
        "colab": {
          "base_uri": "https://localhost:8080/"
        },
        "id": "zszA0AclmQmF",
        "outputId": "cda4014d-d279-411f-96b0-9e520fbdb5aa"
      },
      "source": [
        "batch_size = 450\n",
        "epochs=10\n",
        "model.fit(x=x_train, y=y_train, batch_size=batch_size, epochs=epochs)"
      ],
      "execution_count": 62,
      "outputs": [
        {
          "output_type": "stream",
          "text": [
            "Epoch 1/10\n",
            "134/134 [==============================] - 1s 3ms/step - loss: 1.0671 - accuracy: 0.6889\n",
            "Epoch 2/10\n",
            "134/134 [==============================] - 0s 3ms/step - loss: 0.2010 - accuracy: 0.9419\n",
            "Epoch 3/10\n",
            "134/134 [==============================] - 0s 3ms/step - loss: 0.1396 - accuracy: 0.9592\n",
            "Epoch 4/10\n",
            "134/134 [==============================] - 0s 3ms/step - loss: 0.1041 - accuracy: 0.9690\n",
            "Epoch 5/10\n",
            "134/134 [==============================] - 0s 3ms/step - loss: 0.0801 - accuracy: 0.9754\n",
            "Epoch 6/10\n",
            "134/134 [==============================] - 0s 3ms/step - loss: 0.0646 - accuracy: 0.9807\n",
            "Epoch 7/10\n",
            "134/134 [==============================] - 0s 3ms/step - loss: 0.0551 - accuracy: 0.9831\n",
            "Epoch 8/10\n",
            "134/134 [==============================] - 0s 3ms/step - loss: 0.0454 - accuracy: 0.9867\n",
            "Epoch 9/10\n",
            "134/134 [==============================] - 0s 3ms/step - loss: 0.0381 - accuracy: 0.9892\n",
            "Epoch 10/10\n",
            "134/134 [==============================] - 0s 3ms/step - loss: 0.0334 - accuracy: 0.9902\n"
          ],
          "name": "stdout"
        },
        {
          "output_type": "execute_result",
          "data": {
            "text/plain": [
              "<keras.callbacks.History at 0x7f5a887d3390>"
            ]
          },
          "metadata": {
            "tags": []
          },
          "execution_count": 62
        }
      ]
    },
    {
      "cell_type": "code",
      "metadata": {
        "colab": {
          "base_uri": "https://localhost:8080/"
        },
        "id": "nmChqL_TmUrt",
        "outputId": "15ac31f8-5a79-42dc-c5a7-6e0370f403d1"
      },
      "source": [
        "test_loss, test_acc = model.evaluate(x_test, y_test) ##test loss decreased to .06. So far is the lowest.\n",
        "print(\"Test Loss: {}, Test Accuracy: {}\".format(test_loss, test_acc))"
      ],
      "execution_count": 63,
      "outputs": [
        {
          "output_type": "stream",
          "text": [
            "313/313 [==============================] - 1s 2ms/step - loss: 0.0674 - accuracy: 0.9805\n",
            "Test Loss: 0.06737643480300903, Test Accuracy: 0.9804999828338623\n"
          ],
          "name": "stdout"
        }
      ]
    },
    {
      "cell_type": "markdown",
      "metadata": {
        "id": "s4YcvqtpmeKZ"
      },
      "source": [
        "**Experimenting with drop out layers**"
      ]
    },
    {
      "cell_type": "markdown",
      "metadata": {
        "id": "O6VmGi4emk0s"
      },
      "source": [
        "Model 1"
      ]
    },
    {
      "cell_type": "code",
      "metadata": {
        "colab": {
          "base_uri": "https://localhost:8080/"
        },
        "id": "-9KHovUEmlwl",
        "outputId": "733578ba-6412-4199-c55e-f340d3a0d18a"
      },
      "source": [
        "model = Sequential() ##sticking with 2 fully connected layers and drop out %\n",
        "\n",
        "model.add(Dense(units=200, input_shape=(784,), activation='relu'))\n",
        "model.add(Dense(units=200, activation='relu'))\n",
        "model.add(Dropout(0.10))\n",
        "model.add(Dense(units=20, activation='softmax'))\n",
        "\n",
        "model.compile(loss='sparse_categorical_crossentropy', optimizer='adam', metrics=['accuracy'])\n",
        "model.summary()"
      ],
      "execution_count": 64,
      "outputs": [
        {
          "output_type": "stream",
          "text": [
            "Model: \"sequential_16\"\n",
            "_________________________________________________________________\n",
            "Layer (type)                 Output Shape              Param #   \n",
            "=================================================================\n",
            "dense_49 (Dense)             (None, 200)               157000    \n",
            "_________________________________________________________________\n",
            "dense_50 (Dense)             (None, 200)               40200     \n",
            "_________________________________________________________________\n",
            "dropout_16 (Dropout)         (None, 200)               0         \n",
            "_________________________________________________________________\n",
            "dense_51 (Dense)             (None, 20)                4020      \n",
            "=================================================================\n",
            "Total params: 201,220\n",
            "Trainable params: 201,220\n",
            "Non-trainable params: 0\n",
            "_________________________________________________________________\n"
          ],
          "name": "stdout"
        }
      ]
    },
    {
      "cell_type": "code",
      "metadata": {
        "colab": {
          "base_uri": "https://localhost:8080/"
        },
        "id": "qeJfWnzWmvh0",
        "outputId": "c547b9ed-6c2b-4831-9aa9-2db65e909ca0"
      },
      "source": [
        "batch_size = 450\n",
        "epochs=10\n",
        "model.fit(x=x_train, y=y_train, batch_size=batch_size, epochs=epochs)"
      ],
      "execution_count": 65,
      "outputs": [
        {
          "output_type": "stream",
          "text": [
            "Epoch 1/10\n",
            "134/134 [==============================] - 1s 3ms/step - loss: 0.9861 - accuracy: 0.7441\n",
            "Epoch 2/10\n",
            "134/134 [==============================] - 0s 3ms/step - loss: 0.1905 - accuracy: 0.9448\n",
            "Epoch 3/10\n",
            "134/134 [==============================] - 0s 3ms/step - loss: 0.1226 - accuracy: 0.9632\n",
            "Epoch 4/10\n",
            "134/134 [==============================] - 0s 3ms/step - loss: 0.0903 - accuracy: 0.9743\n",
            "Epoch 5/10\n",
            "134/134 [==============================] - 0s 3ms/step - loss: 0.0707 - accuracy: 0.9794\n",
            "Epoch 6/10\n",
            "134/134 [==============================] - 0s 3ms/step - loss: 0.0555 - accuracy: 0.9829\n",
            "Epoch 7/10\n",
            "134/134 [==============================] - 0s 3ms/step - loss: 0.0461 - accuracy: 0.9867\n",
            "Epoch 8/10\n",
            "134/134 [==============================] - 0s 3ms/step - loss: 0.0370 - accuracy: 0.9884\n",
            "Epoch 9/10\n",
            "134/134 [==============================] - 0s 3ms/step - loss: 0.0342 - accuracy: 0.9898\n",
            "Epoch 10/10\n",
            "134/134 [==============================] - 0s 3ms/step - loss: 0.0292 - accuracy: 0.9913\n"
          ],
          "name": "stdout"
        },
        {
          "output_type": "execute_result",
          "data": {
            "text/plain": [
              "<keras.callbacks.History at 0x7f5aa0b68590>"
            ]
          },
          "metadata": {
            "tags": []
          },
          "execution_count": 65
        }
      ]
    },
    {
      "cell_type": "code",
      "metadata": {
        "colab": {
          "base_uri": "https://localhost:8080/"
        },
        "id": "aYmlhN8cmxc7",
        "outputId": "033ae798-bca4-4bc2-a36e-58eb4efa6940"
      },
      "source": [
        "test_loss, test_acc = model.evaluate(x_test, y_test) ##test loss stayed at .06. But has increased from .067 of previous model.\n",
        "print(\"Test Loss: {}, Test Accuracy: {}\".format(test_loss, test_acc))"
      ],
      "execution_count": 66,
      "outputs": [
        {
          "output_type": "stream",
          "text": [
            "313/313 [==============================] - 1s 2ms/step - loss: 0.0683 - accuracy: 0.9789\n",
            "Test Loss: 0.06828945130109787, Test Accuracy: 0.9789000153541565\n"
          ],
          "name": "stdout"
        }
      ]
    },
    {
      "cell_type": "markdown",
      "metadata": {
        "id": "sc-600UNm-LZ"
      },
      "source": [
        "Model 2"
      ]
    },
    {
      "cell_type": "code",
      "metadata": {
        "colab": {
          "base_uri": "https://localhost:8080/"
        },
        "id": "PVomcFmom_Bg",
        "outputId": "98a5c8d6-3fd9-47ba-d361-dc18481a16c2"
      },
      "source": [
        "model = Sequential() ##sticking with 2 fully connected layers and just changing drop out %\n",
        "\n",
        "model.add(Dense(units=200, input_shape=(784,), activation='relu'))\n",
        "model.add(Dense(units=200, activation='relu'))\n",
        "model.add(Dropout(0.30))\n",
        "model.add(Dense(units=20, activation='softmax'))\n",
        "\n",
        "model.compile(loss='sparse_categorical_crossentropy', optimizer='adam', metrics=['accuracy'])\n",
        "model.summary()"
      ],
      "execution_count": 67,
      "outputs": [
        {
          "output_type": "stream",
          "text": [
            "Model: \"sequential_17\"\n",
            "_________________________________________________________________\n",
            "Layer (type)                 Output Shape              Param #   \n",
            "=================================================================\n",
            "dense_52 (Dense)             (None, 200)               157000    \n",
            "_________________________________________________________________\n",
            "dense_53 (Dense)             (None, 200)               40200     \n",
            "_________________________________________________________________\n",
            "dropout_17 (Dropout)         (None, 200)               0         \n",
            "_________________________________________________________________\n",
            "dense_54 (Dense)             (None, 20)                4020      \n",
            "=================================================================\n",
            "Total params: 201,220\n",
            "Trainable params: 201,220\n",
            "Non-trainable params: 0\n",
            "_________________________________________________________________\n"
          ],
          "name": "stdout"
        }
      ]
    },
    {
      "cell_type": "code",
      "metadata": {
        "colab": {
          "base_uri": "https://localhost:8080/"
        },
        "id": "VD0UBx-PnFwj",
        "outputId": "8034fd11-ddee-48a3-b1d8-e71c17aecbf3"
      },
      "source": [
        "batch_size = 450\n",
        "epochs=10\n",
        "model.fit(x=x_train, y=y_train, batch_size=batch_size, epochs=epochs)"
      ],
      "execution_count": 68,
      "outputs": [
        {
          "output_type": "stream",
          "text": [
            "Epoch 1/10\n",
            "134/134 [==============================] - 1s 3ms/step - loss: 1.0466 - accuracy: 0.6934\n",
            "Epoch 2/10\n",
            "134/134 [==============================] - 0s 3ms/step - loss: 0.2097 - accuracy: 0.9393\n",
            "Epoch 3/10\n",
            "134/134 [==============================] - 0s 3ms/step - loss: 0.1366 - accuracy: 0.9590\n",
            "Epoch 4/10\n",
            "134/134 [==============================] - 0s 3ms/step - loss: 0.1054 - accuracy: 0.9684\n",
            "Epoch 5/10\n",
            "134/134 [==============================] - 0s 3ms/step - loss: 0.0824 - accuracy: 0.9760\n",
            "Epoch 6/10\n",
            "134/134 [==============================] - 0s 3ms/step - loss: 0.0643 - accuracy: 0.9808\n",
            "Epoch 7/10\n",
            "134/134 [==============================] - 0s 3ms/step - loss: 0.0547 - accuracy: 0.9840\n",
            "Epoch 8/10\n",
            "134/134 [==============================] - 0s 3ms/step - loss: 0.0494 - accuracy: 0.9860\n",
            "Epoch 9/10\n",
            "134/134 [==============================] - 0s 3ms/step - loss: 0.0380 - accuracy: 0.9879\n",
            "Epoch 10/10\n",
            "134/134 [==============================] - 0s 3ms/step - loss: 0.0329 - accuracy: 0.9904\n"
          ],
          "name": "stdout"
        },
        {
          "output_type": "execute_result",
          "data": {
            "text/plain": [
              "<keras.callbacks.History at 0x7f5aa0c8b350>"
            ]
          },
          "metadata": {
            "tags": []
          },
          "execution_count": 68
        }
      ]
    },
    {
      "cell_type": "code",
      "metadata": {
        "colab": {
          "base_uri": "https://localhost:8080/"
        },
        "id": "RretCs_VnOj9",
        "outputId": "3bb0bb5d-b021-4bef-db84-fe7abb473cc5"
      },
      "source": [
        "test_loss, test_acc = model.evaluate(x_test, y_test) ##test loss stayed at .06. But has decreased from .0673 to .0670.\n",
        "print(\"Test Loss: {}, Test Accuracy: {}\".format(test_loss, test_acc))"
      ],
      "execution_count": 69,
      "outputs": [
        {
          "output_type": "stream",
          "text": [
            "313/313 [==============================] - 1s 2ms/step - loss: 0.0670 - accuracy: 0.9790\n",
            "Test Loss: 0.06700514256954193, Test Accuracy: 0.9789999723434448\n"
          ],
          "name": "stdout"
        }
      ]
    },
    {
      "cell_type": "markdown",
      "metadata": {
        "id": "9XBIlaKknW-S"
      },
      "source": [
        "Model 3"
      ]
    },
    {
      "cell_type": "code",
      "metadata": {
        "colab": {
          "base_uri": "https://localhost:8080/"
        },
        "id": "8aNJ9qWonXua",
        "outputId": "7eac7a07-8ffe-4760-aacf-a341d39a55b5"
      },
      "source": [
        "model = Sequential() ##sticking with 2 fully connected layers and drop out %\n",
        "\n",
        "model.add(Dense(units=200, input_shape=(784,), activation='relu'))\n",
        "model.add(Dense(units=200, activation='relu'))\n",
        "model.add(Dropout(0.40))\n",
        "model.add(Dense(units=20, activation='softmax'))\n",
        "\n",
        "model.compile(loss='sparse_categorical_crossentropy', optimizer='adam', metrics=['accuracy'])\n",
        "model.summary()"
      ],
      "execution_count": 70,
      "outputs": [
        {
          "output_type": "stream",
          "text": [
            "Model: \"sequential_18\"\n",
            "_________________________________________________________________\n",
            "Layer (type)                 Output Shape              Param #   \n",
            "=================================================================\n",
            "dense_55 (Dense)             (None, 200)               157000    \n",
            "_________________________________________________________________\n",
            "dense_56 (Dense)             (None, 200)               40200     \n",
            "_________________________________________________________________\n",
            "dropout_18 (Dropout)         (None, 200)               0         \n",
            "_________________________________________________________________\n",
            "dense_57 (Dense)             (None, 20)                4020      \n",
            "=================================================================\n",
            "Total params: 201,220\n",
            "Trainable params: 201,220\n",
            "Non-trainable params: 0\n",
            "_________________________________________________________________\n"
          ],
          "name": "stdout"
        }
      ]
    },
    {
      "cell_type": "code",
      "metadata": {
        "colab": {
          "base_uri": "https://localhost:8080/"
        },
        "id": "cOnKBsRdncbH",
        "outputId": "2ca3bd69-8003-465c-a8e4-127b0725712d"
      },
      "source": [
        "batch_size = 450\n",
        "epochs=10\n",
        "model.fit(x=x_train, y=y_train, batch_size=batch_size, epochs=epochs)"
      ],
      "execution_count": 71,
      "outputs": [
        {
          "output_type": "stream",
          "text": [
            "Epoch 1/10\n",
            "134/134 [==============================] - 1s 3ms/step - loss: 1.1035 - accuracy: 0.6639\n",
            "Epoch 2/10\n",
            "134/134 [==============================] - 0s 3ms/step - loss: 0.2123 - accuracy: 0.9386\n",
            "Epoch 3/10\n",
            "134/134 [==============================] - 0s 3ms/step - loss: 0.1496 - accuracy: 0.9553\n",
            "Epoch 4/10\n",
            "134/134 [==============================] - 0s 3ms/step - loss: 0.1160 - accuracy: 0.9662\n",
            "Epoch 5/10\n",
            "134/134 [==============================] - 0s 3ms/step - loss: 0.0899 - accuracy: 0.9732\n",
            "Epoch 6/10\n",
            "134/134 [==============================] - 0s 3ms/step - loss: 0.0743 - accuracy: 0.9781\n",
            "Epoch 7/10\n",
            "134/134 [==============================] - 0s 3ms/step - loss: 0.0630 - accuracy: 0.9804\n",
            "Epoch 8/10\n",
            "134/134 [==============================] - 0s 3ms/step - loss: 0.0516 - accuracy: 0.9838\n",
            "Epoch 9/10\n",
            "134/134 [==============================] - 0s 3ms/step - loss: 0.0433 - accuracy: 0.9869\n",
            "Epoch 10/10\n",
            "134/134 [==============================] - 0s 3ms/step - loss: 0.0378 - accuracy: 0.9887\n"
          ],
          "name": "stdout"
        },
        {
          "output_type": "execute_result",
          "data": {
            "text/plain": [
              "<keras.callbacks.History at 0x7f5a85e17390>"
            ]
          },
          "metadata": {
            "tags": []
          },
          "execution_count": 71
        }
      ]
    },
    {
      "cell_type": "code",
      "metadata": {
        "colab": {
          "base_uri": "https://localhost:8080/"
        },
        "id": "gH-z9sr6ng6P",
        "outputId": "473338c7-9620-475f-b618-2088e4ac19b8"
      },
      "source": [
        "test_loss, test_acc = model.evaluate(x_test, y_test) ##test loss increased back to .07.\n",
        "print(\"Test Loss: {}, Test Accuracy: {}\".format(test_loss, test_acc))"
      ],
      "execution_count": 72,
      "outputs": [
        {
          "output_type": "stream",
          "text": [
            "313/313 [==============================] - 1s 2ms/step - loss: 0.0702 - accuracy: 0.9781\n",
            "Test Loss: 0.07018744200468063, Test Accuracy: 0.9781000018119812\n"
          ],
          "name": "stdout"
        }
      ]
    },
    {
      "cell_type": "markdown",
      "metadata": {
        "id": "H5P1WspEnlUl"
      },
      "source": [
        "Model 4"
      ]
    },
    {
      "cell_type": "code",
      "metadata": {
        "colab": {
          "base_uri": "https://localhost:8080/"
        },
        "id": "78NY3LHwnmIl",
        "outputId": "11c4f70b-3409-4d3c-df54-5ccaccb8ed58"
      },
      "source": [
        "model = Sequential() ##sticking with 2 fully connected layers and drop out %\n",
        "\n",
        "model.add(Dense(units=200, input_shape=(784,), activation='relu'))\n",
        "model.add(Dense(units=200, activation='relu'))\n",
        "model.add(Dropout(0.35))\n",
        "model.add(Dense(units=20, activation='softmax'))\n",
        "\n",
        "model.compile(loss='sparse_categorical_crossentropy', optimizer='adam', metrics=['accuracy'])\n",
        "model.summary()"
      ],
      "execution_count": 73,
      "outputs": [
        {
          "output_type": "stream",
          "text": [
            "Model: \"sequential_19\"\n",
            "_________________________________________________________________\n",
            "Layer (type)                 Output Shape              Param #   \n",
            "=================================================================\n",
            "dense_58 (Dense)             (None, 200)               157000    \n",
            "_________________________________________________________________\n",
            "dense_59 (Dense)             (None, 200)               40200     \n",
            "_________________________________________________________________\n",
            "dropout_19 (Dropout)         (None, 200)               0         \n",
            "_________________________________________________________________\n",
            "dense_60 (Dense)             (None, 20)                4020      \n",
            "=================================================================\n",
            "Total params: 201,220\n",
            "Trainable params: 201,220\n",
            "Non-trainable params: 0\n",
            "_________________________________________________________________\n"
          ],
          "name": "stdout"
        }
      ]
    },
    {
      "cell_type": "code",
      "metadata": {
        "colab": {
          "base_uri": "https://localhost:8080/"
        },
        "id": "0U1DKhudnp-K",
        "outputId": "41d5df3b-f612-4fc6-e10a-0539d04d59ba"
      },
      "source": [
        "batch_size = 450\n",
        "epochs=10\n",
        "model.fit(x=x_train, y=y_train, batch_size=batch_size, epochs=epochs)"
      ],
      "execution_count": 74,
      "outputs": [
        {
          "output_type": "stream",
          "text": [
            "Epoch 1/10\n",
            "134/134 [==============================] - 1s 3ms/step - loss: 1.0902 - accuracy: 0.6812\n",
            "Epoch 2/10\n",
            "134/134 [==============================] - 0s 3ms/step - loss: 0.2140 - accuracy: 0.9375\n",
            "Epoch 3/10\n",
            "134/134 [==============================] - 0s 3ms/step - loss: 0.1416 - accuracy: 0.9592\n",
            "Epoch 4/10\n",
            "134/134 [==============================] - 0s 3ms/step - loss: 0.1111 - accuracy: 0.9677\n",
            "Epoch 5/10\n",
            "134/134 [==============================] - 0s 3ms/step - loss: 0.0838 - accuracy: 0.9755\n",
            "Epoch 6/10\n",
            "134/134 [==============================] - 0s 3ms/step - loss: 0.0696 - accuracy: 0.9785\n",
            "Epoch 7/10\n",
            "134/134 [==============================] - 0s 3ms/step - loss: 0.0596 - accuracy: 0.9820\n",
            "Epoch 8/10\n",
            "134/134 [==============================] - 0s 3ms/step - loss: 0.0483 - accuracy: 0.9857\n",
            "Epoch 9/10\n",
            "134/134 [==============================] - 0s 3ms/step - loss: 0.0448 - accuracy: 0.9862\n",
            "Epoch 10/10\n",
            "134/134 [==============================] - 0s 3ms/step - loss: 0.0366 - accuracy: 0.9888\n"
          ],
          "name": "stdout"
        },
        {
          "output_type": "execute_result",
          "data": {
            "text/plain": [
              "<keras.callbacks.History at 0x7f5a84492a50>"
            ]
          },
          "metadata": {
            "tags": []
          },
          "execution_count": 74
        }
      ]
    },
    {
      "cell_type": "code",
      "metadata": {
        "colab": {
          "base_uri": "https://localhost:8080/"
        },
        "id": "B_DeY_FjnumD",
        "outputId": "dcd11871-7e8e-4e3b-d9ca-9e67b692a97a"
      },
      "source": [
        "test_loss, test_acc = model.evaluate(x_test, y_test) ##test loss is now at .069, which is an improvement from previous but still not the best test loss.\n",
        "print(\"Test Loss: {}, Test Accuracy: {}\".format(test_loss, test_acc))"
      ],
      "execution_count": 75,
      "outputs": [
        {
          "output_type": "stream",
          "text": [
            "313/313 [==============================] - 1s 2ms/step - loss: 0.0700 - accuracy: 0.9784\n",
            "Test Loss: 0.06999750435352325, Test Accuracy: 0.9783999919891357\n"
          ],
          "name": "stdout"
        }
      ]
    },
    {
      "cell_type": "markdown",
      "metadata": {
        "id": "d8Z7VM-Mn5hI"
      },
      "source": [
        "**Experimenting with Batch Sizes**"
      ]
    },
    {
      "cell_type": "markdown",
      "metadata": {
        "id": "M_WiT_8In_J1"
      },
      "source": [
        "Model 1"
      ]
    },
    {
      "cell_type": "code",
      "metadata": {
        "colab": {
          "base_uri": "https://localhost:8080/"
        },
        "id": "-STb50wWoAjd",
        "outputId": "ca7b21be-7ab7-4072-d8a2-cc3b3c1ce2c6"
      },
      "source": [
        "model = Sequential() ##sticking with 2 fully connected layers and drop out at .30 since this has yielded best test loss thus far.\n",
        "                     ##will now only change batch size\n",
        "\n",
        "model.add(Dense(units=200, input_shape=(784,), activation='relu'))\n",
        "model.add(Dense(units=200, activation='relu'))\n",
        "model.add(Dropout(0.30))\n",
        "model.add(Dense(units=20, activation='softmax'))\n",
        "\n",
        "model.compile(loss='sparse_categorical_crossentropy', optimizer='adam', metrics=['accuracy'])\n",
        "model.summary()"
      ],
      "execution_count": 76,
      "outputs": [
        {
          "output_type": "stream",
          "text": [
            "Model: \"sequential_20\"\n",
            "_________________________________________________________________\n",
            "Layer (type)                 Output Shape              Param #   \n",
            "=================================================================\n",
            "dense_61 (Dense)             (None, 200)               157000    \n",
            "_________________________________________________________________\n",
            "dense_62 (Dense)             (None, 200)               40200     \n",
            "_________________________________________________________________\n",
            "dropout_20 (Dropout)         (None, 200)               0         \n",
            "_________________________________________________________________\n",
            "dense_63 (Dense)             (None, 20)                4020      \n",
            "=================================================================\n",
            "Total params: 201,220\n",
            "Trainable params: 201,220\n",
            "Non-trainable params: 0\n",
            "_________________________________________________________________\n"
          ],
          "name": "stdout"
        }
      ]
    },
    {
      "cell_type": "code",
      "metadata": {
        "colab": {
          "base_uri": "https://localhost:8080/"
        },
        "id": "27a6lCaUoXVM",
        "outputId": "fd1c491b-7878-4805-bb4a-db3d6f4e75c2"
      },
      "source": [
        "batch_size = 400\n",
        "epochs=10\n",
        "model.fit(x=x_train, y=y_train, batch_size=batch_size, epochs=epochs)"
      ],
      "execution_count": 77,
      "outputs": [
        {
          "output_type": "stream",
          "text": [
            "Epoch 1/10\n",
            "150/150 [==============================] - 1s 3ms/step - loss: 1.0134 - accuracy: 0.7134\n",
            "Epoch 2/10\n",
            "150/150 [==============================] - 0s 3ms/step - loss: 0.1942 - accuracy: 0.9432\n",
            "Epoch 3/10\n",
            "150/150 [==============================] - 0s 3ms/step - loss: 0.1305 - accuracy: 0.9628\n",
            "Epoch 4/10\n",
            "150/150 [==============================] - 0s 3ms/step - loss: 0.0957 - accuracy: 0.9712\n",
            "Epoch 5/10\n",
            "150/150 [==============================] - 0s 3ms/step - loss: 0.0785 - accuracy: 0.9763\n",
            "Epoch 6/10\n",
            "150/150 [==============================] - 0s 3ms/step - loss: 0.0635 - accuracy: 0.9812\n",
            "Epoch 7/10\n",
            "150/150 [==============================] - 0s 3ms/step - loss: 0.0488 - accuracy: 0.9857\n",
            "Epoch 8/10\n",
            "150/150 [==============================] - 0s 3ms/step - loss: 0.0423 - accuracy: 0.9875\n",
            "Epoch 9/10\n",
            "150/150 [==============================] - 0s 3ms/step - loss: 0.0360 - accuracy: 0.9890\n",
            "Epoch 10/10\n",
            "150/150 [==============================] - 0s 3ms/step - loss: 0.0293 - accuracy: 0.9915\n"
          ],
          "name": "stdout"
        },
        {
          "output_type": "execute_result",
          "data": {
            "text/plain": [
              "<keras.callbacks.History at 0x7f5a9c1b60d0>"
            ]
          },
          "metadata": {
            "tags": []
          },
          "execution_count": 77
        }
      ]
    },
    {
      "cell_type": "code",
      "metadata": {
        "colab": {
          "base_uri": "https://localhost:8080/"
        },
        "id": "rfV6ugCCoes2",
        "outputId": "be5e33b8-3dd5-40fd-b771-798b3e4a4bc9"
      },
      "source": [
        "test_loss, test_acc = model.evaluate(x_test, y_test) ##test loss increased back to .069.\n",
        "print(\"Test Loss: {}, Test Accuracy: {}\".format(test_loss, test_acc))"
      ],
      "execution_count": 78,
      "outputs": [
        {
          "output_type": "stream",
          "text": [
            "313/313 [==============================] - 1s 2ms/step - loss: 0.0698 - accuracy: 0.9796\n",
            "Test Loss: 0.06975015252828598, Test Accuracy: 0.9796000123023987\n"
          ],
          "name": "stdout"
        }
      ]
    },
    {
      "cell_type": "markdown",
      "metadata": {
        "id": "iKyZGg5sohfO"
      },
      "source": [
        "Model 2"
      ]
    },
    {
      "cell_type": "code",
      "metadata": {
        "colab": {
          "base_uri": "https://localhost:8080/"
        },
        "id": "UmzCQ7f_oiIH",
        "outputId": "75cf07e7-fd93-4569-bea6-399225ef6fbe"
      },
      "source": [
        "model = Sequential() ##sticking with 2 fully connected layers and drop out at .30 since this has yielded best test loss thus far.\n",
        "                     ##will now only change batch size\n",
        "\n",
        "model.add(Dense(units=200, input_shape=(784,), activation='relu'))\n",
        "model.add(Dense(units=200, activation='relu'))\n",
        "model.add(Dropout(0.30))\n",
        "model.add(Dense(units=20, activation='softmax'))\n",
        "\n",
        "model.compile(loss='sparse_categorical_crossentropy', optimizer='adam', metrics=['accuracy'])\n",
        "model.summary()"
      ],
      "execution_count": 79,
      "outputs": [
        {
          "output_type": "stream",
          "text": [
            "Model: \"sequential_21\"\n",
            "_________________________________________________________________\n",
            "Layer (type)                 Output Shape              Param #   \n",
            "=================================================================\n",
            "dense_64 (Dense)             (None, 200)               157000    \n",
            "_________________________________________________________________\n",
            "dense_65 (Dense)             (None, 200)               40200     \n",
            "_________________________________________________________________\n",
            "dropout_21 (Dropout)         (None, 200)               0         \n",
            "_________________________________________________________________\n",
            "dense_66 (Dense)             (None, 20)                4020      \n",
            "=================================================================\n",
            "Total params: 201,220\n",
            "Trainable params: 201,220\n",
            "Non-trainable params: 0\n",
            "_________________________________________________________________\n"
          ],
          "name": "stdout"
        }
      ]
    },
    {
      "cell_type": "code",
      "metadata": {
        "colab": {
          "base_uri": "https://localhost:8080/"
        },
        "id": "T1A-sYGeok99",
        "outputId": "b25b53dd-2168-4153-e1f4-62425f82543f"
      },
      "source": [
        "batch_size = 500\n",
        "epochs=10\n",
        "model.fit(x=x_train, y=y_train, batch_size=batch_size, epochs=epochs)"
      ],
      "execution_count": 80,
      "outputs": [
        {
          "output_type": "stream",
          "text": [
            "Epoch 1/10\n",
            "120/120 [==============================] - 1s 3ms/step - loss: 1.0948 - accuracy: 0.6795\n",
            "Epoch 2/10\n",
            "120/120 [==============================] - 0s 3ms/step - loss: 0.2136 - accuracy: 0.9384\n",
            "Epoch 3/10\n",
            "120/120 [==============================] - 0s 3ms/step - loss: 0.1493 - accuracy: 0.9566\n",
            "Epoch 4/10\n",
            "120/120 [==============================] - 0s 3ms/step - loss: 0.1129 - accuracy: 0.9663\n",
            "Epoch 5/10\n",
            "120/120 [==============================] - 0s 3ms/step - loss: 0.0929 - accuracy: 0.9726\n",
            "Epoch 6/10\n",
            "120/120 [==============================] - 0s 3ms/step - loss: 0.0691 - accuracy: 0.9785\n",
            "Epoch 7/10\n",
            "120/120 [==============================] - 0s 3ms/step - loss: 0.0619 - accuracy: 0.9817\n",
            "Epoch 8/10\n",
            "120/120 [==============================] - 0s 3ms/step - loss: 0.0497 - accuracy: 0.9848\n",
            "Epoch 9/10\n",
            "120/120 [==============================] - 0s 3ms/step - loss: 0.0438 - accuracy: 0.9871\n",
            "Epoch 10/10\n",
            "120/120 [==============================] - 0s 3ms/step - loss: 0.0385 - accuracy: 0.9889\n"
          ],
          "name": "stdout"
        },
        {
          "output_type": "execute_result",
          "data": {
            "text/plain": [
              "<keras.callbacks.History at 0x7f5a821a7450>"
            ]
          },
          "metadata": {
            "tags": []
          },
          "execution_count": 80
        }
      ]
    },
    {
      "cell_type": "code",
      "metadata": {
        "colab": {
          "base_uri": "https://localhost:8080/"
        },
        "id": "oQnrOfJForXe",
        "outputId": "a88177fc-ac42-455c-e111-29c476639714"
      },
      "source": [
        "test_loss, test_acc = model.evaluate(x_test, y_test) ##test loss increased to .073.\n",
        "print(\"Test Loss: {}, Test Accuracy: {}\".format(test_loss, test_acc))"
      ],
      "execution_count": 81,
      "outputs": [
        {
          "output_type": "stream",
          "text": [
            "313/313 [==============================] - 1s 2ms/step - loss: 0.0737 - accuracy: 0.9773\n",
            "Test Loss: 0.0737372413277626, Test Accuracy: 0.9772999882698059\n"
          ],
          "name": "stdout"
        }
      ]
    },
    {
      "cell_type": "markdown",
      "metadata": {
        "id": "6n2IZPTFozqG"
      },
      "source": [
        "Model 3"
      ]
    },
    {
      "cell_type": "code",
      "metadata": {
        "colab": {
          "base_uri": "https://localhost:8080/"
        },
        "id": "E1PQjIuAo0dZ",
        "outputId": "61767a5b-d611-415e-9a22-6ad03bb64f80"
      },
      "source": [
        "model = Sequential() ##sticking with 2 fully connected layers and drop out at .30 since this has yielded best test loss thus far.\n",
        "                     ##will now only change batch size\n",
        "\n",
        "model.add(Dense(units=200, input_shape=(784,), activation='relu'))\n",
        "model.add(Dense(units=200, activation='relu'))\n",
        "model.add(Dropout(0.30))\n",
        "model.add(Dense(units=20, activation='softmax'))\n",
        "\n",
        "model.compile(loss='sparse_categorical_crossentropy', optimizer='adam', metrics=['accuracy'])\n",
        "model.summary()"
      ],
      "execution_count": 82,
      "outputs": [
        {
          "output_type": "stream",
          "text": [
            "Model: \"sequential_22\"\n",
            "_________________________________________________________________\n",
            "Layer (type)                 Output Shape              Param #   \n",
            "=================================================================\n",
            "dense_67 (Dense)             (None, 200)               157000    \n",
            "_________________________________________________________________\n",
            "dense_68 (Dense)             (None, 200)               40200     \n",
            "_________________________________________________________________\n",
            "dropout_22 (Dropout)         (None, 200)               0         \n",
            "_________________________________________________________________\n",
            "dense_69 (Dense)             (None, 20)                4020      \n",
            "=================================================================\n",
            "Total params: 201,220\n",
            "Trainable params: 201,220\n",
            "Non-trainable params: 0\n",
            "_________________________________________________________________\n"
          ],
          "name": "stdout"
        }
      ]
    },
    {
      "cell_type": "code",
      "metadata": {
        "colab": {
          "base_uri": "https://localhost:8080/"
        },
        "id": "Bi6Ld_yto4SZ",
        "outputId": "569caabf-23a7-48d3-b3a9-08a66b853045"
      },
      "source": [
        "batch_size = 300\n",
        "epochs=10\n",
        "model.fit(x=x_train, y=y_train, batch_size=batch_size, epochs=epochs)"
      ],
      "execution_count": 88,
      "outputs": [
        {
          "output_type": "stream",
          "text": [
            "Epoch 1/10\n",
            "200/200 [==============================] - 1s 3ms/step - loss: 0.0091 - accuracy: 0.9970\n",
            "Epoch 2/10\n",
            "200/200 [==============================] - 1s 3ms/step - loss: 0.0047 - accuracy: 0.9987\n",
            "Epoch 3/10\n",
            "200/200 [==============================] - 1s 3ms/step - loss: 0.0037 - accuracy: 0.9992\n",
            "Epoch 4/10\n",
            "200/200 [==============================] - 1s 3ms/step - loss: 0.0031 - accuracy: 0.9993\n",
            "Epoch 5/10\n",
            "200/200 [==============================] - 1s 3ms/step - loss: 0.0027 - accuracy: 0.9993\n",
            "Epoch 6/10\n",
            "200/200 [==============================] - 1s 3ms/step - loss: 0.0028 - accuracy: 0.9994\n",
            "Epoch 7/10\n",
            "200/200 [==============================] - 1s 3ms/step - loss: 0.0028 - accuracy: 0.9993\n",
            "Epoch 8/10\n",
            "200/200 [==============================] - 1s 3ms/step - loss: 0.0024 - accuracy: 0.9995\n",
            "Epoch 9/10\n",
            "200/200 [==============================] - 1s 3ms/step - loss: 0.0023 - accuracy: 0.9994\n",
            "Epoch 10/10\n",
            "200/200 [==============================] - 1s 3ms/step - loss: 0.0022 - accuracy: 0.9995\n"
          ],
          "name": "stdout"
        },
        {
          "output_type": "execute_result",
          "data": {
            "text/plain": [
              "<keras.callbacks.History at 0x7f5a7d5ab250>"
            ]
          },
          "metadata": {
            "tags": []
          },
          "execution_count": 88
        }
      ]
    },
    {
      "cell_type": "code",
      "metadata": {
        "colab": {
          "base_uri": "https://localhost:8080/"
        },
        "id": "-ZX3G2fgo-Gw",
        "outputId": "e5e66433-b912-451a-c0fd-bb8cfa5f2032"
      },
      "source": [
        "test_loss, test_acc = model.evaluate(x_test, y_test) ##test loss increased to .071.\n",
        "print(\"Test Loss: {}, Test Accuracy: {}\".format(test_loss, test_acc))"
      ],
      "execution_count": 89,
      "outputs": [
        {
          "output_type": "stream",
          "text": [
            "313/313 [==============================] - 1s 2ms/step - loss: 0.0716 - accuracy: 0.9841\n",
            "Test Loss: 0.07160069048404694, Test Accuracy: 0.9840999841690063\n"
          ],
          "name": "stdout"
        }
      ]
    },
    {
      "cell_type": "markdown",
      "metadata": {
        "id": "4ZYX9X2CpAq_"
      },
      "source": [
        "Model 4"
      ]
    },
    {
      "cell_type": "code",
      "metadata": {
        "colab": {
          "base_uri": "https://localhost:8080/"
        },
        "id": "eoWDlYuFpBTh",
        "outputId": "72e462de-bfef-4766-e03e-199e138bd878"
      },
      "source": [
        "model = Sequential() ##sticking with 2 fully connected layers and drop out at .30 since this has yielded best test loss thus far.\n",
        "                     ##will now only change batch size\n",
        "\n",
        "model.add(Dense(units=200, input_shape=(784,), activation='relu'))\n",
        "model.add(Dense(units=200, activation='relu'))\n",
        "model.add(Dropout(0.30))\n",
        "model.add(Dense(units=20, activation='softmax'))\n",
        "\n",
        "model.compile(loss='sparse_categorical_crossentropy', optimizer='adam', metrics=['accuracy'])\n",
        "model.summary()"
      ],
      "execution_count": 85,
      "outputs": [
        {
          "output_type": "stream",
          "text": [
            "Model: \"sequential_23\"\n",
            "_________________________________________________________________\n",
            "Layer (type)                 Output Shape              Param #   \n",
            "=================================================================\n",
            "dense_70 (Dense)             (None, 200)               157000    \n",
            "_________________________________________________________________\n",
            "dense_71 (Dense)             (None, 200)               40200     \n",
            "_________________________________________________________________\n",
            "dropout_23 (Dropout)         (None, 200)               0         \n",
            "_________________________________________________________________\n",
            "dense_72 (Dense)             (None, 20)                4020      \n",
            "=================================================================\n",
            "Total params: 201,220\n",
            "Trainable params: 201,220\n",
            "Non-trainable params: 0\n",
            "_________________________________________________________________\n"
          ],
          "name": "stdout"
        }
      ]
    },
    {
      "cell_type": "code",
      "metadata": {
        "colab": {
          "base_uri": "https://localhost:8080/"
        },
        "id": "N03a6oecpEwI",
        "outputId": "ca14bc15-5742-4a1c-8108-d31683a8d54c"
      },
      "source": [
        "batch_size = 100\n",
        "epochs=10\n",
        "model.fit(x=x_train, y=y_train, batch_size=batch_size, epochs=epochs)"
      ],
      "execution_count": 91,
      "outputs": [
        {
          "output_type": "stream",
          "text": [
            "Epoch 1/10\n",
            "600/600 [==============================] - 1s 2ms/step - loss: 0.0334 - accuracy: 0.9887\n",
            "Epoch 2/10\n",
            "600/600 [==============================] - 1s 2ms/step - loss: 0.0156 - accuracy: 0.9944\n",
            "Epoch 3/10\n",
            "600/600 [==============================] - 1s 2ms/step - loss: 0.0127 - accuracy: 0.9961\n",
            "Epoch 4/10\n",
            "600/600 [==============================] - 1s 2ms/step - loss: 0.0123 - accuracy: 0.9961\n",
            "Epoch 5/10\n",
            "600/600 [==============================] - 1s 2ms/step - loss: 0.0089 - accuracy: 0.9972\n",
            "Epoch 6/10\n",
            "600/600 [==============================] - 1s 2ms/step - loss: 0.0095 - accuracy: 0.9968\n",
            "Epoch 7/10\n",
            "600/600 [==============================] - 1s 2ms/step - loss: 0.0090 - accuracy: 0.9967\n",
            "Epoch 8/10\n",
            "600/600 [==============================] - 1s 2ms/step - loss: 0.0091 - accuracy: 0.9971\n",
            "Epoch 9/10\n",
            "600/600 [==============================] - 1s 2ms/step - loss: 0.0113 - accuracy: 0.9961\n",
            "Epoch 10/10\n",
            "600/600 [==============================] - 1s 2ms/step - loss: 0.0111 - accuracy: 0.9962\n"
          ],
          "name": "stdout"
        },
        {
          "output_type": "execute_result",
          "data": {
            "text/plain": [
              "<keras.callbacks.History at 0x7f5a7c489310>"
            ]
          },
          "metadata": {
            "tags": []
          },
          "execution_count": 91
        }
      ]
    },
    {
      "cell_type": "code",
      "metadata": {
        "colab": {
          "base_uri": "https://localhost:8080/"
        },
        "id": "tYg1T4bDpb5D",
        "outputId": "2bf211d1-a464-45bb-a552-248f2ed12fd1"
      },
      "source": [
        "test_loss, test_acc = model.evaluate(x_test, y_test) ##test loss increased to .109.\n",
        "print(\"Test Loss: {}, Test Accuracy: {}\".format(test_loss, test_acc))"
      ],
      "execution_count": 92,
      "outputs": [
        {
          "output_type": "stream",
          "text": [
            "313/313 [==============================] - 1s 2ms/step - loss: 0.1092 - accuracy: 0.9795\n",
            "Test Loss: 0.10916806757450104, Test Accuracy: 0.9794999957084656\n"
          ],
          "name": "stdout"
        }
      ]
    },
    {
      "cell_type": "markdown",
      "metadata": {
        "id": "pWONMgPnpql-"
      },
      "source": [
        "**Expermenting with different activation functions**"
      ]
    },
    {
      "cell_type": "markdown",
      "metadata": {
        "id": "mu_Et_UDpyD0"
      },
      "source": [
        "Model 1"
      ]
    },
    {
      "cell_type": "code",
      "metadata": {
        "colab": {
          "base_uri": "https://localhost:8080/"
        },
        "id": "M7a-VOlbpzHt",
        "outputId": "3af1a3d0-54c5-4822-e7dc-dfc318656d35"
      },
      "source": [
        "model = Sequential() ##sticking with 2 fully connected layers and drop out at .30 since this has yielded best test loss thus far.\n",
        "                     ##batch size has been best at 450\n",
        "                     \n",
        "\n",
        "model.add(Dense(units=200, input_shape=(784,), activation='sigmoid'))\n",
        "model.add(Dense(units=200, activation='sigmoid'))\n",
        "model.add(Dropout(0.30))\n",
        "model.add(Dense(units=20, activation='softmax'))\n",
        "\n",
        "model.compile(loss='sparse_categorical_crossentropy', optimizer='adam', metrics=['accuracy'])\n",
        "model.summary()"
      ],
      "execution_count": 96,
      "outputs": [
        {
          "output_type": "stream",
          "text": [
            "Model: \"sequential_25\"\n",
            "_________________________________________________________________\n",
            "Layer (type)                 Output Shape              Param #   \n",
            "=================================================================\n",
            "dense_76 (Dense)             (None, 200)               157000    \n",
            "_________________________________________________________________\n",
            "dense_77 (Dense)             (None, 200)               40200     \n",
            "_________________________________________________________________\n",
            "dropout_25 (Dropout)         (None, 200)               0         \n",
            "_________________________________________________________________\n",
            "dense_78 (Dense)             (None, 20)                4020      \n",
            "=================================================================\n",
            "Total params: 201,220\n",
            "Trainable params: 201,220\n",
            "Non-trainable params: 0\n",
            "_________________________________________________________________\n"
          ],
          "name": "stdout"
        }
      ]
    },
    {
      "cell_type": "code",
      "metadata": {
        "colab": {
          "base_uri": "https://localhost:8080/"
        },
        "id": "bhJwiSD9smGz",
        "outputId": "90acf3cf-6e99-432e-fef0-240696153b11"
      },
      "source": [
        "batch_size = 450\n",
        "epochs=10\n",
        "model.fit(x=x_train, y=y_train, batch_size=batch_size, epochs=epochs)"
      ],
      "execution_count": 97,
      "outputs": [
        {
          "output_type": "stream",
          "text": [
            "Epoch 1/10\n",
            "134/134 [==============================] - 1s 3ms/step - loss: 2.0578 - accuracy: 0.3443\n",
            "Epoch 2/10\n",
            "134/134 [==============================] - 0s 3ms/step - loss: 0.4882 - accuracy: 0.8677\n",
            "Epoch 3/10\n",
            "134/134 [==============================] - 0s 3ms/step - loss: 0.3339 - accuracy: 0.9047\n",
            "Epoch 4/10\n",
            "134/134 [==============================] - 0s 3ms/step - loss: 0.2755 - accuracy: 0.9204\n",
            "Epoch 5/10\n",
            "134/134 [==============================] - 0s 3ms/step - loss: 0.2328 - accuracy: 0.9328\n",
            "Epoch 6/10\n",
            "134/134 [==============================] - 0s 3ms/step - loss: 0.2112 - accuracy: 0.9374\n",
            "Epoch 7/10\n",
            "134/134 [==============================] - 0s 3ms/step - loss: 0.1867 - accuracy: 0.9449\n",
            "Epoch 8/10\n",
            "134/134 [==============================] - 0s 3ms/step - loss: 0.1723 - accuracy: 0.9491\n",
            "Epoch 9/10\n",
            "134/134 [==============================] - 0s 3ms/step - loss: 0.1573 - accuracy: 0.9535\n",
            "Epoch 10/10\n",
            "134/134 [==============================] - 0s 3ms/step - loss: 0.1403 - accuracy: 0.9582\n"
          ],
          "name": "stdout"
        },
        {
          "output_type": "execute_result",
          "data": {
            "text/plain": [
              "<keras.callbacks.History at 0x7f5a7b31b2d0>"
            ]
          },
          "metadata": {
            "tags": []
          },
          "execution_count": 97
        }
      ]
    },
    {
      "cell_type": "code",
      "metadata": {
        "colab": {
          "base_uri": "https://localhost:8080/"
        },
        "id": "DQISZNBzsrr8",
        "outputId": "87650ce5-4ca3-4ce1-b0a0-969ef5c9846c"
      },
      "source": [
        "test_loss, test_acc = model.evaluate(x_test, y_test) ##test loss increased to .126.\n",
        "print(\"Test Loss: {}, Test Accuracy: {}\".format(test_loss, test_acc))"
      ],
      "execution_count": 98,
      "outputs": [
        {
          "output_type": "stream",
          "text": [
            "313/313 [==============================] - 1s 2ms/step - loss: 0.1260 - accuracy: 0.9611\n",
            "Test Loss: 0.12600623071193695, Test Accuracy: 0.9610999822616577\n"
          ],
          "name": "stdout"
        }
      ]
    },
    {
      "cell_type": "markdown",
      "metadata": {
        "id": "u-BYkiMNswLT"
      },
      "source": [
        "Model 2"
      ]
    },
    {
      "cell_type": "code",
      "metadata": {
        "colab": {
          "base_uri": "https://localhost:8080/"
        },
        "id": "JbWAskbVsyuM",
        "outputId": "d75d8e33-98aa-4a8a-e02c-4046b2160bb4"
      },
      "source": [
        "model = Sequential() ##sticking with 2 fully connected layers and drop out at .30 since this has yielded best test loss thus far.\n",
        "                     ##batch size has been best at 450\n",
        "                     \n",
        "\n",
        "model.add(Dense(units=200, input_shape=(784,), activation='tanh'))\n",
        "model.add(Dense(units=200, activation='tanh'))\n",
        "model.add(Dropout(0.30))\n",
        "model.add(Dense(units=20, activation='softmax'))\n",
        "\n",
        "model.compile(loss='sparse_categorical_crossentropy', optimizer='adam', metrics=['accuracy'])\n",
        "model.summary()"
      ],
      "execution_count": 99,
      "outputs": [
        {
          "output_type": "stream",
          "text": [
            "Model: \"sequential_26\"\n",
            "_________________________________________________________________\n",
            "Layer (type)                 Output Shape              Param #   \n",
            "=================================================================\n",
            "dense_79 (Dense)             (None, 200)               157000    \n",
            "_________________________________________________________________\n",
            "dense_80 (Dense)             (None, 200)               40200     \n",
            "_________________________________________________________________\n",
            "dropout_26 (Dropout)         (None, 200)               0         \n",
            "_________________________________________________________________\n",
            "dense_81 (Dense)             (None, 20)                4020      \n",
            "=================================================================\n",
            "Total params: 201,220\n",
            "Trainable params: 201,220\n",
            "Non-trainable params: 0\n",
            "_________________________________________________________________\n"
          ],
          "name": "stdout"
        }
      ]
    },
    {
      "cell_type": "code",
      "metadata": {
        "colab": {
          "base_uri": "https://localhost:8080/"
        },
        "id": "k4rL7wUWs8jy",
        "outputId": "c145a47e-97b5-4b6d-c9a3-bb7fe71a1e61"
      },
      "source": [
        "batch_size = 450\n",
        "epochs=10\n",
        "model.fit(x=x_train, y=y_train, batch_size=batch_size, epochs=epochs)"
      ],
      "execution_count": 100,
      "outputs": [
        {
          "output_type": "stream",
          "text": [
            "Epoch 1/10\n",
            "134/134 [==============================] - 1s 3ms/step - loss: 0.8746 - accuracy: 0.7514\n",
            "Epoch 2/10\n",
            "134/134 [==============================] - 0s 3ms/step - loss: 0.2516 - accuracy: 0.9262\n",
            "Epoch 3/10\n",
            "134/134 [==============================] - 0s 3ms/step - loss: 0.1931 - accuracy: 0.9431\n",
            "Epoch 4/10\n",
            "134/134 [==============================] - 0s 3ms/step - loss: 0.1508 - accuracy: 0.9538\n",
            "Epoch 5/10\n",
            "134/134 [==============================] - 0s 3ms/step - loss: 0.1256 - accuracy: 0.9631\n",
            "Epoch 6/10\n",
            "134/134 [==============================] - 0s 3ms/step - loss: 0.1007 - accuracy: 0.9707\n",
            "Epoch 7/10\n",
            "134/134 [==============================] - 0s 3ms/step - loss: 0.0871 - accuracy: 0.9732\n",
            "Epoch 8/10\n",
            "134/134 [==============================] - 0s 3ms/step - loss: 0.0711 - accuracy: 0.9783\n",
            "Epoch 9/10\n",
            "134/134 [==============================] - 0s 3ms/step - loss: 0.0610 - accuracy: 0.9814\n",
            "Epoch 10/10\n",
            "134/134 [==============================] - 0s 3ms/step - loss: 0.0527 - accuracy: 0.9838\n"
          ],
          "name": "stdout"
        },
        {
          "output_type": "execute_result",
          "data": {
            "text/plain": [
              "<keras.callbacks.History at 0x7f5a7a17d450>"
            ]
          },
          "metadata": {
            "tags": []
          },
          "execution_count": 100
        }
      ]
    },
    {
      "cell_type": "code",
      "metadata": {
        "colab": {
          "base_uri": "https://localhost:8080/"
        },
        "id": "wOECY2p9s-_7",
        "outputId": "b43a075f-2b9a-4d8e-8d04-70ad0720e14b"
      },
      "source": [
        "test_loss, test_acc = model.evaluate(x_test, y_test) ##test loss decreased back to .079, relu is still best.\n",
        "print(\"Test Loss: {}, Test Accuracy: {}\".format(test_loss, test_acc))"
      ],
      "execution_count": 101,
      "outputs": [
        {
          "output_type": "stream",
          "text": [
            "313/313 [==============================] - 1s 2ms/step - loss: 0.0793 - accuracy: 0.9751\n",
            "Test Loss: 0.07933033257722855, Test Accuracy: 0.9750999808311462\n"
          ],
          "name": "stdout"
        }
      ]
    },
    {
      "cell_type": "markdown",
      "metadata": {
        "id": "HWTfscbZtF5I"
      },
      "source": [
        "Model 3"
      ]
    },
    {
      "cell_type": "code",
      "metadata": {
        "colab": {
          "base_uri": "https://localhost:8080/"
        },
        "id": "HhMcCZa8tJE6",
        "outputId": "46600078-25b3-4744-d102-06efb9cf6ce4"
      },
      "source": [
        "model = Sequential() ##sticking with 2 fully connected layers and drop out at .30 since this has yielded best test loss thus far.\n",
        "                     ##batch size has been best at 450\n",
        "                     \n",
        "\n",
        "model.add(Dense(units=200, input_shape=(784,), activation='elu'))\n",
        "model.add(Dense(units=200, activation='elu'))\n",
        "model.add(Dropout(0.30))\n",
        "model.add(Dense(units=20, activation='softmax'))\n",
        "\n",
        "model.compile(loss='sparse_categorical_crossentropy', optimizer='adam', metrics=['accuracy'])\n",
        "model.summary()"
      ],
      "execution_count": 102,
      "outputs": [
        {
          "output_type": "stream",
          "text": [
            "Model: \"sequential_27\"\n",
            "_________________________________________________________________\n",
            "Layer (type)                 Output Shape              Param #   \n",
            "=================================================================\n",
            "dense_82 (Dense)             (None, 200)               157000    \n",
            "_________________________________________________________________\n",
            "dense_83 (Dense)             (None, 200)               40200     \n",
            "_________________________________________________________________\n",
            "dropout_27 (Dropout)         (None, 200)               0         \n",
            "_________________________________________________________________\n",
            "dense_84 (Dense)             (None, 20)                4020      \n",
            "=================================================================\n",
            "Total params: 201,220\n",
            "Trainable params: 201,220\n",
            "Non-trainable params: 0\n",
            "_________________________________________________________________\n"
          ],
          "name": "stdout"
        }
      ]
    },
    {
      "cell_type": "code",
      "metadata": {
        "colab": {
          "base_uri": "https://localhost:8080/"
        },
        "id": "3LM6vCGCtP-x",
        "outputId": "6e3fb0cb-b655-4ca3-fbdd-4c5c0411b4ff"
      },
      "source": [
        "batch_size = 450\n",
        "epochs=10\n",
        "model.fit(x=x_train, y=y_train, batch_size=batch_size, epochs=epochs)"
      ],
      "execution_count": 103,
      "outputs": [
        {
          "output_type": "stream",
          "text": [
            "Epoch 1/10\n",
            "134/134 [==============================] - 1s 3ms/step - loss: 0.8848 - accuracy: 0.7487\n",
            "Epoch 2/10\n",
            "134/134 [==============================] - 0s 3ms/step - loss: 0.2577 - accuracy: 0.9239\n",
            "Epoch 3/10\n",
            "134/134 [==============================] - 0s 3ms/step - loss: 0.1980 - accuracy: 0.9420\n",
            "Epoch 4/10\n",
            "134/134 [==============================] - 0s 3ms/step - loss: 0.1539 - accuracy: 0.9545\n",
            "Epoch 5/10\n",
            "134/134 [==============================] - 0s 3ms/step - loss: 0.1273 - accuracy: 0.9604\n",
            "Epoch 6/10\n",
            "134/134 [==============================] - 0s 3ms/step - loss: 0.1077 - accuracy: 0.9673\n",
            "Epoch 7/10\n",
            "134/134 [==============================] - 0s 3ms/step - loss: 0.0932 - accuracy: 0.9714\n",
            "Epoch 8/10\n",
            "134/134 [==============================] - 0s 3ms/step - loss: 0.0757 - accuracy: 0.9773\n",
            "Epoch 9/10\n",
            "134/134 [==============================] - 0s 3ms/step - loss: 0.0694 - accuracy: 0.9785\n",
            "Epoch 10/10\n",
            "134/134 [==============================] - 0s 3ms/step - loss: 0.0609 - accuracy: 0.9814\n"
          ],
          "name": "stdout"
        },
        {
          "output_type": "execute_result",
          "data": {
            "text/plain": [
              "<keras.callbacks.History at 0x7f5a7900e210>"
            ]
          },
          "metadata": {
            "tags": []
          },
          "execution_count": 103
        }
      ]
    },
    {
      "cell_type": "code",
      "metadata": {
        "colab": {
          "base_uri": "https://localhost:8080/"
        },
        "id": "m3C15XO9tSwW",
        "outputId": "5ebf800d-1043-4933-f223-66e9cec7645b"
      },
      "source": [
        "test_loss, test_acc = model.evaluate(x_test, y_test) ##test loss decreased back to .08, relu is still best.\n",
        "print(\"Test Loss: {}, Test Accuracy: {}\".format(test_loss, test_acc))"
      ],
      "execution_count": 104,
      "outputs": [
        {
          "output_type": "stream",
          "text": [
            "313/313 [==============================] - 1s 2ms/step - loss: 0.0807 - accuracy: 0.9756\n",
            "Test Loss: 0.08073409646749496, Test Accuracy: 0.975600004196167\n"
          ],
          "name": "stdout"
        }
      ]
    },
    {
      "cell_type": "markdown",
      "metadata": {
        "id": "a2tSEG90tYvl"
      },
      "source": [
        "Model 4"
      ]
    },
    {
      "cell_type": "code",
      "metadata": {
        "colab": {
          "base_uri": "https://localhost:8080/"
        },
        "id": "S9RMQ5P-tZhm",
        "outputId": "5595cd57-6f25-42be-c89c-f6f2e9a2c698"
      },
      "source": [
        "model = Sequential() ##sticking with 2 fully connected layers and drop out at .30 since this has yielded best test loss thus far.\n",
        "                     ##batch size has been best at 450\n",
        "                     \n",
        "\n",
        "model.add(Dense(units=200, input_shape=(784,), activation='softplus'))\n",
        "model.add(Dense(units=200, activation='softplus'))\n",
        "model.add(Dropout(0.30))\n",
        "model.add(Dense(units=20, activation='softmax'))\n",
        "\n",
        "model.compile(loss='sparse_categorical_crossentropy', optimizer='adam', metrics=['accuracy'])\n",
        "model.summary()"
      ],
      "execution_count": 105,
      "outputs": [
        {
          "output_type": "stream",
          "text": [
            "Model: \"sequential_28\"\n",
            "_________________________________________________________________\n",
            "Layer (type)                 Output Shape              Param #   \n",
            "=================================================================\n",
            "dense_85 (Dense)             (None, 200)               157000    \n",
            "_________________________________________________________________\n",
            "dense_86 (Dense)             (None, 200)               40200     \n",
            "_________________________________________________________________\n",
            "dropout_28 (Dropout)         (None, 200)               0         \n",
            "_________________________________________________________________\n",
            "dense_87 (Dense)             (None, 20)                4020      \n",
            "=================================================================\n",
            "Total params: 201,220\n",
            "Trainable params: 201,220\n",
            "Non-trainable params: 0\n",
            "_________________________________________________________________\n"
          ],
          "name": "stdout"
        }
      ]
    },
    {
      "cell_type": "code",
      "metadata": {
        "colab": {
          "base_uri": "https://localhost:8080/"
        },
        "id": "CtMnXbp8tmAu",
        "outputId": "ab78274f-64a8-4304-d3e3-70848e681ed9"
      },
      "source": [
        "batch_size = 450\n",
        "epochs=10\n",
        "model.fit(x=x_train, y=y_train, batch_size=batch_size, epochs=epochs)"
      ],
      "execution_count": 106,
      "outputs": [
        {
          "output_type": "stream",
          "text": [
            "Epoch 1/10\n",
            "134/134 [==============================] - 1s 3ms/step - loss: 1.4115 - accuracy: 0.5480\n",
            "Epoch 2/10\n",
            "134/134 [==============================] - 0s 3ms/step - loss: 0.3301 - accuracy: 0.9011\n",
            "Epoch 3/10\n",
            "134/134 [==============================] - 0s 3ms/step - loss: 0.2610 - accuracy: 0.9216\n",
            "Epoch 4/10\n",
            "134/134 [==============================] - 0s 3ms/step - loss: 0.2072 - accuracy: 0.9375\n",
            "Epoch 5/10\n",
            "134/134 [==============================] - 0s 3ms/step - loss: 0.1863 - accuracy: 0.9437\n",
            "Epoch 6/10\n",
            "134/134 [==============================] - 0s 3ms/step - loss: 0.1579 - accuracy: 0.9532\n",
            "Epoch 7/10\n",
            "134/134 [==============================] - 0s 3ms/step - loss: 0.1407 - accuracy: 0.9578\n",
            "Epoch 8/10\n",
            "134/134 [==============================] - 0s 3ms/step - loss: 0.1263 - accuracy: 0.9617\n",
            "Epoch 9/10\n",
            "134/134 [==============================] - 0s 3ms/step - loss: 0.1101 - accuracy: 0.9671\n",
            "Epoch 10/10\n",
            "134/134 [==============================] - 0s 3ms/step - loss: 0.1031 - accuracy: 0.9690\n"
          ],
          "name": "stdout"
        },
        {
          "output_type": "execute_result",
          "data": {
            "text/plain": [
              "<keras.callbacks.History at 0x7f5a786f0190>"
            ]
          },
          "metadata": {
            "tags": []
          },
          "execution_count": 106
        }
      ]
    },
    {
      "cell_type": "code",
      "metadata": {
        "colab": {
          "base_uri": "https://localhost:8080/"
        },
        "id": "qlFO9fYntmrt",
        "outputId": "233fbbb6-015f-4390-ed48-0bb69db90cc6"
      },
      "source": [
        "test_loss, test_acc = model.evaluate(x_test, y_test) ##test loss increased to .09, relu is still best.\n",
        "print(\"Test Loss: {}, Test Accuracy: {}\".format(test_loss, test_acc))"
      ],
      "execution_count": 107,
      "outputs": [
        {
          "output_type": "stream",
          "text": [
            "313/313 [==============================] - 1s 2ms/step - loss: 0.0925 - accuracy: 0.9705\n",
            "Test Loss: 0.09251844137907028, Test Accuracy: 0.9704999923706055\n"
          ],
          "name": "stdout"
        }
      ]
    },
    {
      "cell_type": "markdown",
      "metadata": {
        "id": "yFhtrT3auD3i"
      },
      "source": [
        "**Experimenting with loss functions**"
      ]
    },
    {
      "cell_type": "markdown",
      "metadata": {
        "id": "83XT5ed2uG3h"
      },
      "source": [
        "Model 1"
      ]
    },
    {
      "cell_type": "code",
      "metadata": {
        "colab": {
          "base_uri": "https://localhost:8080/"
        },
        "id": "cHymvyf9uHjx",
        "outputId": "d93676db-428a-4245-b82b-b31bdaa854b3"
      },
      "source": [
        "model = Sequential() ##sticking with 2 fully connected layers and drop out at .30 since this has yielded best test loss thus far.\n",
        "                     ##batch size best at 450 \n",
        "                     ##relu best activation function\n",
        "\n",
        "model.add(Dense(units=200, input_shape=(784,), activation='relu'))\n",
        "model.add(Dense(units=200, activation='relu'))\n",
        "model.add(Dropout(0.30))\n",
        "model.add(Dense(units=20, activation='softmax'))\n",
        "\n",
        "model.compile(loss='mean_squared_error', optimizer='adam', metrics=['accuracy'])\n",
        "model.summary()"
      ],
      "execution_count": 116,
      "outputs": [
        {
          "output_type": "stream",
          "text": [
            "Model: \"sequential_34\"\n",
            "_________________________________________________________________\n",
            "Layer (type)                 Output Shape              Param #   \n",
            "=================================================================\n",
            "dense_103 (Dense)            (None, 200)               157000    \n",
            "_________________________________________________________________\n",
            "dense_104 (Dense)            (None, 200)               40200     \n",
            "_________________________________________________________________\n",
            "dropout_34 (Dropout)         (None, 200)               0         \n",
            "_________________________________________________________________\n",
            "dense_105 (Dense)            (None, 20)                4020      \n",
            "=================================================================\n",
            "Total params: 201,220\n",
            "Trainable params: 201,220\n",
            "Non-trainable params: 0\n",
            "_________________________________________________________________\n"
          ],
          "name": "stdout"
        }
      ]
    },
    {
      "cell_type": "code",
      "metadata": {
        "colab": {
          "base_uri": "https://localhost:8080/"
        },
        "id": "9U2-xZiKuxoP",
        "outputId": "74431936-abb2-4f51-b61c-e4e3878975ba"
      },
      "source": [
        "batch_size = 450\n",
        "epochs=10\n",
        "model.fit(x=x_train, y=y_train, batch_size=batch_size, epochs=epochs)"
      ],
      "execution_count": 117,
      "outputs": [
        {
          "output_type": "stream",
          "text": [
            "Epoch 1/10\n",
            "134/134 [==============================] - 1s 3ms/step - loss: 27.8416 - accuracy: 0.0505\n",
            "Epoch 2/10\n",
            "134/134 [==============================] - 0s 3ms/step - loss: 27.7266 - accuracy: 0.0264\n",
            "Epoch 3/10\n",
            "134/134 [==============================] - 0s 3ms/step - loss: 27.7245 - accuracy: 0.0155\n",
            "Epoch 4/10\n",
            "134/134 [==============================] - 0s 3ms/step - loss: 27.7579 - accuracy: 0.0082\n",
            "Epoch 5/10\n",
            "134/134 [==============================] - 0s 3ms/step - loss: 27.7723 - accuracy: 0.0057\n",
            "Epoch 6/10\n",
            "134/134 [==============================] - 0s 3ms/step - loss: 27.5982 - accuracy: 0.0134\n",
            "Epoch 7/10\n",
            "134/134 [==============================] - 0s 3ms/step - loss: 27.7968 - accuracy: 0.0193\n",
            "Epoch 8/10\n",
            "134/134 [==============================] - 0s 3ms/step - loss: 27.6391 - accuracy: 0.0610\n",
            "Epoch 9/10\n",
            "134/134 [==============================] - 0s 3ms/step - loss: 27.6556 - accuracy: 0.0300\n",
            "Epoch 10/10\n",
            "134/134 [==============================] - 0s 3ms/step - loss: 27.8975 - accuracy: 0.0401\n"
          ],
          "name": "stdout"
        },
        {
          "output_type": "execute_result",
          "data": {
            "text/plain": [
              "<keras.callbacks.History at 0x7f5a7d5b4190>"
            ]
          },
          "metadata": {
            "tags": []
          },
          "execution_count": 117
        }
      ]
    },
    {
      "cell_type": "code",
      "metadata": {
        "colab": {
          "base_uri": "https://localhost:8080/"
        },
        "id": "nGLF2sb-vsu-",
        "outputId": "f7291928-447a-40cd-adb0-fc2a6febdaf4"
      },
      "source": [
        "test_loss, test_acc = model.evaluate(x_test, y_test) ##test loss increased to 27, sparse_categorical_crossentropy is still best\n",
        "print(\"Test Loss: {}, Test Accuracy: {}\".format(test_loss, test_acc))"
      ],
      "execution_count": 118,
      "outputs": [
        {
          "output_type": "stream",
          "text": [
            "313/313 [==============================] - 1s 2ms/step - loss: 27.6872 - accuracy: 0.0024\n",
            "Test Loss: 27.687171936035156, Test Accuracy: 0.002400000113993883\n"
          ],
          "name": "stdout"
        }
      ]
    },
    {
      "cell_type": "markdown",
      "metadata": {
        "id": "L439_zA0vvMP"
      },
      "source": [
        "Model 2"
      ]
    },
    {
      "cell_type": "code",
      "metadata": {
        "colab": {
          "base_uri": "https://localhost:8080/"
        },
        "id": "aCnPSZ_TvzRe",
        "outputId": "d29b0307-5b42-4b9d-949b-ec26fa70d09e"
      },
      "source": [
        "model = Sequential() ##sticking with 2 fully connected layers and drop out at .30 since this has yielded best test loss thus far.\n",
        "                     ##batch size best at 450 \n",
        "                     ##relu best activation function\n",
        "\n",
        "model.add(Dense(units=200, input_shape=(784,), activation='relu'))\n",
        "model.add(Dense(units=200, activation='relu'))\n",
        "model.add(Dropout(0.30))\n",
        "model.add(Dense(units=20, activation='softmax'))\n",
        "\n",
        "model.compile(loss='kullback_leibler_divergence', optimizer='adam', metrics=['accuracy'])\n",
        "model.summary()"
      ],
      "execution_count": 119,
      "outputs": [
        {
          "output_type": "stream",
          "text": [
            "Model: \"sequential_35\"\n",
            "_________________________________________________________________\n",
            "Layer (type)                 Output Shape              Param #   \n",
            "=================================================================\n",
            "dense_106 (Dense)            (None, 200)               157000    \n",
            "_________________________________________________________________\n",
            "dense_107 (Dense)            (None, 200)               40200     \n",
            "_________________________________________________________________\n",
            "dropout_35 (Dropout)         (None, 200)               0         \n",
            "_________________________________________________________________\n",
            "dense_108 (Dense)            (None, 20)                4020      \n",
            "=================================================================\n",
            "Total params: 201,220\n",
            "Trainable params: 201,220\n",
            "Non-trainable params: 0\n",
            "_________________________________________________________________\n"
          ],
          "name": "stdout"
        }
      ]
    },
    {
      "cell_type": "code",
      "metadata": {
        "colab": {
          "base_uri": "https://localhost:8080/"
        },
        "id": "tuGJ8fJswLDZ",
        "outputId": "e4660872-5b59-433a-cf93-cf9cc55b6c80"
      },
      "source": [
        "batch_size = 450\n",
        "epochs=10\n",
        "model.fit(x=x_train, y=y_train, batch_size=batch_size, epochs=epochs)"
      ],
      "execution_count": 120,
      "outputs": [
        {
          "output_type": "stream",
          "text": [
            "Epoch 1/10\n",
            "134/134 [==============================] - 1s 3ms/step - loss: 54.0023 - accuracy: 0.0475\n",
            "Epoch 2/10\n",
            "134/134 [==============================] - 0s 3ms/step - loss: 53.9456 - accuracy: 0.0502\n",
            "Epoch 3/10\n",
            "134/134 [==============================] - 0s 3ms/step - loss: 53.9802 - accuracy: 0.0542\n",
            "Epoch 4/10\n",
            "134/134 [==============================] - 0s 3ms/step - loss: 54.0238 - accuracy: 0.0277\n",
            "Epoch 5/10\n",
            "134/134 [==============================] - 0s 3ms/step - loss: 53.9502 - accuracy: 0.0159\n",
            "Epoch 6/10\n",
            "134/134 [==============================] - 0s 3ms/step - loss: 54.1620 - accuracy: 0.0509\n",
            "Epoch 7/10\n",
            "134/134 [==============================] - 0s 3ms/step - loss: 54.0425 - accuracy: 0.0714\n",
            "Epoch 8/10\n",
            "134/134 [==============================] - 0s 3ms/step - loss: 54.0678 - accuracy: 0.0521\n",
            "Epoch 9/10\n",
            "134/134 [==============================] - 0s 3ms/step - loss: 53.9744 - accuracy: 0.0369\n",
            "Epoch 10/10\n",
            "134/134 [==============================] - 0s 3ms/step - loss: 54.1081 - accuracy: 0.0226\n"
          ],
          "name": "stdout"
        },
        {
          "output_type": "execute_result",
          "data": {
            "text/plain": [
              "<keras.callbacks.History at 0x7f5a76523550>"
            ]
          },
          "metadata": {
            "tags": []
          },
          "execution_count": 120
        }
      ]
    },
    {
      "cell_type": "code",
      "metadata": {
        "colab": {
          "base_uri": "https://localhost:8080/"
        },
        "id": "sSDl9MzXwLv9",
        "outputId": "de5ed375-4129-4911-cf4c-8eabff79dc91"
      },
      "source": [
        "test_loss, test_acc = model.evaluate(x_test, y_test) ##test loss increased to 54, sparse_categorical_crossentropy is still best\n",
        "print(\"Test Loss: {}, Test Accuracy: {}\".format(test_loss, test_acc))"
      ],
      "execution_count": 121,
      "outputs": [
        {
          "output_type": "stream",
          "text": [
            "313/313 [==============================] - 1s 2ms/step - loss: 54.0431 - accuracy: 0.1131\n",
            "Test Loss: 54.04305648803711, Test Accuracy: 0.11309999972581863\n"
          ],
          "name": "stdout"
        }
      ]
    },
    {
      "cell_type": "markdown",
      "metadata": {
        "id": "0OUVZcJRwRCl"
      },
      "source": [
        "Model 3"
      ]
    },
    {
      "cell_type": "code",
      "metadata": {
        "colab": {
          "base_uri": "https://localhost:8080/"
        },
        "id": "3Fx6I_7owSAQ",
        "outputId": "a70ce406-2c25-4dbf-d186-816205bba147"
      },
      "source": [
        "model = Sequential() ##sticking with 2 fully connected layers and drop out at .30 since this has yielded best test loss thus far.\n",
        "                     ##batch size has been best at 450\n",
        "                      ##relu best activation function\n",
        "                     \n",
        "\n",
        "model.add(Dense(units=200, input_shape=(784,), activation='softplus'))\n",
        "model.add(Dense(units=200, activation='softplus'))\n",
        "model.add(Dropout(0.30))\n",
        "model.add(Dense(units=20, activation='softmax'))\n",
        "\n",
        "model.compile(loss='hinge', optimizer='adam', metrics=['accuracy'])\n",
        "model.summary()"
      ],
      "execution_count": 127,
      "outputs": [
        {
          "output_type": "stream",
          "text": [
            "Model: \"sequential_37\"\n",
            "_________________________________________________________________\n",
            "Layer (type)                 Output Shape              Param #   \n",
            "=================================================================\n",
            "dense_112 (Dense)            (None, 200)               157000    \n",
            "_________________________________________________________________\n",
            "dense_113 (Dense)            (None, 200)               40200     \n",
            "_________________________________________________________________\n",
            "dropout_37 (Dropout)         (None, 200)               0         \n",
            "_________________________________________________________________\n",
            "dense_114 (Dense)            (None, 20)                4020      \n",
            "=================================================================\n",
            "Total params: 201,220\n",
            "Trainable params: 201,220\n",
            "Non-trainable params: 0\n",
            "_________________________________________________________________\n"
          ],
          "name": "stdout"
        }
      ]
    },
    {
      "cell_type": "code",
      "metadata": {
        "colab": {
          "base_uri": "https://localhost:8080/"
        },
        "id": "_nkvxoL8wrRc",
        "outputId": "5f4f709d-b3f3-47b4-9da7-c2baa45f75f1"
      },
      "source": [
        "batch_size = 450\n",
        "epochs=10\n",
        "model.fit(x=x_train, y=y_train, batch_size=batch_size, epochs=epochs)\n"
      ],
      "execution_count": 128,
      "outputs": [
        {
          "output_type": "stream",
          "text": [
            "Epoch 1/10\n",
            "134/134 [==============================] - 1s 3ms/step - loss: 0.7804 - accuracy: 0.0474\n",
            "Epoch 2/10\n",
            "134/134 [==============================] - 0s 3ms/step - loss: 0.7773 - accuracy: 0.0482\n",
            "Epoch 3/10\n",
            "134/134 [==============================] - 0s 3ms/step - loss: 0.7776 - accuracy: 0.0515\n",
            "Epoch 4/10\n",
            "134/134 [==============================] - 0s 3ms/step - loss: 0.7768 - accuracy: 0.0506\n",
            "Epoch 5/10\n",
            "134/134 [==============================] - 0s 3ms/step - loss: 0.7773 - accuracy: 0.0548\n",
            "Epoch 6/10\n",
            "134/134 [==============================] - 0s 3ms/step - loss: 0.7770 - accuracy: 0.0533\n",
            "Epoch 7/10\n",
            "134/134 [==============================] - 0s 3ms/step - loss: 0.7763 - accuracy: 0.0533\n",
            "Epoch 8/10\n",
            "134/134 [==============================] - 0s 3ms/step - loss: 0.7770 - accuracy: 0.0513\n",
            "Epoch 9/10\n",
            "134/134 [==============================] - 0s 3ms/step - loss: 0.7766 - accuracy: 0.0544\n",
            "Epoch 10/10\n",
            "134/134 [==============================] - 0s 3ms/step - loss: 0.7780 - accuracy: 0.0552\n"
          ],
          "name": "stdout"
        },
        {
          "output_type": "execute_result",
          "data": {
            "text/plain": [
              "<keras.callbacks.History at 0x7f5a74a75510>"
            ]
          },
          "metadata": {
            "tags": []
          },
          "execution_count": 128
        }
      ]
    },
    {
      "cell_type": "code",
      "metadata": {
        "colab": {
          "base_uri": "https://localhost:8080/"
        },
        "id": "pKBAV_yHxlHv",
        "outputId": "2f595007-a3cb-40f4-bf5d-d2122a375f38"
      },
      "source": [
        "test_loss, test_acc = model.evaluate(x_test, y_test) ##test loss decreased to .77, sparse_categorical_crossentropy is still best\n",
        "print(\"Test Loss: {}, Test Accuracy: {}\".format(test_loss, test_acc))"
      ],
      "execution_count": 129,
      "outputs": [
        {
          "output_type": "stream",
          "text": [
            "313/313 [==============================] - 1s 2ms/step - loss: 0.7778 - accuracy: 0.0739\n",
            "Test Loss: 0.7778300642967224, Test Accuracy: 0.0738999992609024\n"
          ],
          "name": "stdout"
        }
      ]
    },
    {
      "cell_type": "markdown",
      "metadata": {
        "id": "T--ASI7wxqr7"
      },
      "source": [
        "Model 4"
      ]
    },
    {
      "cell_type": "code",
      "metadata": {
        "colab": {
          "base_uri": "https://localhost:8080/"
        },
        "id": "6KQmUIDKxrRu",
        "outputId": "58ffe5b4-f738-44b3-f57d-51a46e3329d0"
      },
      "source": [
        "model = Sequential() ##sticking with 2 fully connected layers and drop out at .30 since this has yielded best test loss thus far.\n",
        "                     ##batch size has been best at 450\n",
        "                      ##relu best activation function\n",
        "                     \n",
        "\n",
        "model.add(Dense(units=200, input_shape=(784,), activation='softplus'))\n",
        "model.add(Dense(units=200, activation='softplus'))\n",
        "model.add(Dropout(0.30))\n",
        "model.add(Dense(units=20, activation='softmax'))\n",
        "\n",
        "model.compile(loss='squared_hinge', optimizer='adam', metrics=['accuracy'])\n",
        "model.summary()"
      ],
      "execution_count": 130,
      "outputs": [
        {
          "output_type": "stream",
          "text": [
            "Model: \"sequential_38\"\n",
            "_________________________________________________________________\n",
            "Layer (type)                 Output Shape              Param #   \n",
            "=================================================================\n",
            "dense_115 (Dense)            (None, 200)               157000    \n",
            "_________________________________________________________________\n",
            "dense_116 (Dense)            (None, 200)               40200     \n",
            "_________________________________________________________________\n",
            "dropout_38 (Dropout)         (None, 200)               0         \n",
            "_________________________________________________________________\n",
            "dense_117 (Dense)            (None, 20)                4020      \n",
            "=================================================================\n",
            "Total params: 201,220\n",
            "Trainable params: 201,220\n",
            "Non-trainable params: 0\n",
            "_________________________________________________________________\n"
          ],
          "name": "stdout"
        }
      ]
    },
    {
      "cell_type": "code",
      "metadata": {
        "colab": {
          "base_uri": "https://localhost:8080/"
        },
        "id": "Li_imgIfx0SZ",
        "outputId": "353c3fea-83fd-4946-c082-45831ac9ee61"
      },
      "source": [
        "batch_size = 450\n",
        "epochs=10\n",
        "model.fit(x=x_train, y=y_train, batch_size=batch_size, epochs=epochs)"
      ],
      "execution_count": 131,
      "outputs": [
        {
          "output_type": "stream",
          "text": [
            "Epoch 1/10\n",
            "134/134 [==============================] - 1s 3ms/step - loss: 0.6431 - accuracy: 0.0489\n",
            "Epoch 2/10\n",
            "134/134 [==============================] - 0s 3ms/step - loss: 0.6245 - accuracy: 0.0486\n",
            "Epoch 3/10\n",
            "134/134 [==============================] - 0s 3ms/step - loss: 0.6250 - accuracy: 0.0444\n",
            "Epoch 4/10\n",
            "134/134 [==============================] - 0s 3ms/step - loss: 0.6258 - accuracy: 0.0450\n",
            "Epoch 5/10\n",
            "134/134 [==============================] - 0s 3ms/step - loss: 0.6244 - accuracy: 0.0481\n",
            "Epoch 6/10\n",
            "134/134 [==============================] - 0s 3ms/step - loss: 0.6246 - accuracy: 0.0461\n",
            "Epoch 7/10\n",
            "134/134 [==============================] - 0s 3ms/step - loss: 0.6247 - accuracy: 0.0448\n",
            "Epoch 8/10\n",
            "134/134 [==============================] - 0s 3ms/step - loss: 0.6240 - accuracy: 0.0446\n",
            "Epoch 9/10\n",
            "134/134 [==============================] - 0s 3ms/step - loss: 0.6241 - accuracy: 0.0462\n",
            "Epoch 10/10\n",
            "134/134 [==============================] - 0s 3ms/step - loss: 0.6255 - accuracy: 0.0460\n"
          ],
          "name": "stdout"
        },
        {
          "output_type": "execute_result",
          "data": {
            "text/plain": [
              "<keras.callbacks.History at 0x7f5a741824d0>"
            ]
          },
          "metadata": {
            "tags": []
          },
          "execution_count": 131
        }
      ]
    },
    {
      "cell_type": "code",
      "metadata": {
        "colab": {
          "base_uri": "https://localhost:8080/"
        },
        "id": "IqtRWtmXx3Am",
        "outputId": "ef9187bf-228a-42b5-a416-640f0a90748e"
      },
      "source": [
        "test_loss, test_acc = model.evaluate(x_test, y_test) ##test loss decreased to .62, sparse_categorical_crossentropy is still best\n",
        "print(\"Test Loss: {}, Test Accuracy: {}\".format(test_loss, test_acc))"
      ],
      "execution_count": 132,
      "outputs": [
        {
          "output_type": "stream",
          "text": [
            "313/313 [==============================] - 1s 2ms/step - loss: 0.6260 - accuracy: 0.0459\n",
            "Test Loss: 0.6259822249412537, Test Accuracy: 0.045899998396635056\n"
          ],
          "name": "stdout"
        }
      ]
    }
  ]
}